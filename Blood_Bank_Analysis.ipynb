{
 "cells": [
  {
   "cell_type": "code",
   "execution_count": 5,
   "id": "675d34a0-804d-44a6-a722-a5c8a240f01f",
   "metadata": {},
   "outputs": [
    {
     "name": "stdout",
     "output_type": "stream",
     "text": [
      "Defaulting to user installation because normal site-packages is not writeableNote: you may need to restart the kernel to use updated packages.\n",
      "\n",
      "Requirement already satisfied: pandas in c:\\users\\tejal katalkar\\appdata\\roaming\\python\\python312\\site-packages (2.2.3)\n",
      "Requirement already satisfied: numpy>=1.26.0 in c:\\programdata\\anaconda3\\lib\\site-packages (from pandas) (1.26.4)\n",
      "Requirement already satisfied: python-dateutil>=2.8.2 in c:\\users\\tejal katalkar\\appdata\\roaming\\python\\python312\\site-packages (from pandas) (2.9.0.post0)\n",
      "Requirement already satisfied: pytz>=2020.1 in c:\\users\\tejal katalkar\\appdata\\roaming\\python\\python312\\site-packages (from pandas) (2024.2)\n",
      "Requirement already satisfied: tzdata>=2022.7 in c:\\users\\tejal katalkar\\appdata\\roaming\\python\\python312\\site-packages (from pandas) (2024.2)\n",
      "Requirement already satisfied: six>=1.5 in c:\\users\\tejal katalkar\\appdata\\roaming\\python\\python312\\site-packages (from python-dateutil>=2.8.2->pandas) (1.17.0)\n"
     ]
    }
   ],
   "source": [
    "pip install pandas"
   ]
  },
  {
   "cell_type": "code",
   "execution_count": 6,
   "id": "6a2e20b5-87b2-4eda-b9d6-087b1ac618eb",
   "metadata": {},
   "outputs": [],
   "source": [
    "import pandas as pd\n",
    "import sqlite3\n"
   ]
  },
  {
   "cell_type": "code",
   "execution_count": 7,
   "id": "11e83a0d-d55f-4c85-a5dd-16c9248194b3",
   "metadata": {},
   "outputs": [
    {
     "name": "stdout",
     "output_type": "stream",
     "text": [
      "Defaulting to user installation because normal site-packages is not writeable\n",
      "Requirement already satisfied: sqlalchemy in c:\\programdata\\anaconda3\\lib\\site-packages (2.0.34)\n",
      "Requirement already satisfied: mysql-connector-python in c:\\users\\tejal katalkar\\appdata\\roaming\\python\\python312\\site-packages (9.2.0)\n",
      "Requirement already satisfied: typing-extensions>=4.6.0 in c:\\users\\tejal katalkar\\appdata\\roaming\\python\\python312\\site-packages (from sqlalchemy) (4.12.2)\n",
      "Requirement already satisfied: greenlet!=0.4.17 in c:\\programdata\\anaconda3\\lib\\site-packages (from sqlalchemy) (3.0.1)\n",
      "Note: you may need to restart the kernel to use updated packages.\n"
     ]
    }
   ],
   "source": [
    "pip install sqlalchemy mysql-connector-python\n"
   ]
  },
  {
   "cell_type": "code",
   "execution_count": 8,
   "id": "2ac09dd4-b173-4ced-ac14-e8307c84200e",
   "metadata": {},
   "outputs": [
    {
     "name": "stdout",
     "output_type": "stream",
     "text": [
      "Defaulting to user installation because normal site-packages is not writeable\n",
      "Requirement already satisfied: sqlalchemy in c:\\programdata\\anaconda3\\lib\\site-packages (2.0.34)\n",
      "Requirement already satisfied: typing-extensions>=4.6.0 in c:\\users\\tejal katalkar\\appdata\\roaming\\python\\python312\\site-packages (from sqlalchemy) (4.12.2)\n",
      "Requirement already satisfied: greenlet!=0.4.17 in c:\\programdata\\anaconda3\\lib\\site-packages (from sqlalchemy) (3.0.1)\n"
     ]
    }
   ],
   "source": [
    "!pip install sqlalchemy"
   ]
  },
  {
   "cell_type": "code",
   "execution_count": 5,
   "id": "6b50de1f-d33d-4cf9-a0e9-2a4a94cc6373",
   "metadata": {},
   "outputs": [],
   "source": [
    "# import pandas as pd\n",
    "# import mysql.connector\n",
    "\n",
    "# # Load CSV into a DataFrame\n",
    "# df = pd.read_csv(r\"C:\\Users\\TEJAL KATALKAR\\Downloads\\blood__bank__analysis.csv\")\n",
    "\n",
    "# # Show the first few rows to ensure data is loaded\n",
    "# print(df.head())\n",
    "\n"
   ]
  },
  {
   "cell_type": "code",
   "execution_count": 9,
   "id": "95b2f9a2-744c-4d0c-8e41-c7ee5f98834d",
   "metadata": {},
   "outputs": [],
   "source": [
    "import mysql.connector as connection"
   ]
  },
  {
   "cell_type": "code",
   "execution_count": 88,
   "id": "332e8f3f-d63a-4405-b5ac-ac71d8039eea",
   "metadata": {},
   "outputs": [
    {
     "name": "stdout",
     "output_type": "stream",
     "text": [
      "Connected to MySQL\n",
      "   id                                    Blood_Bank_Name  \\\n",
      "0   1                      G.B. Pant Hospital Blood bank   \n",
      "1   2                                I.N.H.S. Dhanvantri   \n",
      "2   3                    Pillar Health Centre Blood Bank   \n",
      "3   4  Indian Red Cross Society Blood Bank, District ...   \n",
      "4   5             Government General Hospital Blood Bank   \n",
      "\n",
      "                         State       District        City   Pincode  \\\n",
      "0  Andaman And Nicobar Islands  SOUTH ANDAMAN  Port Blair  744104.0   \n",
      "1  Andaman And Nicobar Islands  SOUTH ANDAMAN  Port Blair  744103.0   \n",
      "2  Andaman And Nicobar Islands  SOUTH ANDAMAN  Port Blair  744104.0   \n",
      "3               Andhra Pradesh      AnaNTAPUR   Anantapur  515002.0   \n",
      "4               Andhra Pradesh      ANANTAPUR   Anantapur  515001.0   \n",
      "\n",
      "         Mobile                          Email  \\\n",
      "0  9.434267e+09                           None   \n",
      "1  8.001452e+09                           None   \n",
      "2  9.474248e+09  pillarbloodbank2016@gmail.com   \n",
      "3  9.441192e+09                           None   \n",
      "4  9.866696e+09      bloodbankgghatp@gmail.com   \n",
      "\n",
      "                                           Name         Qualification  \\\n",
      "0                            Dr.Ganesh Samaddar                  None   \n",
      "1                             Dr.Smiriti Mathur  MBBS, MD (Pathology)   \n",
      "2                            Dr. Sr. Cross Mary   MBBS, MD (Medicine)   \n",
      "3  Dr.G. Parvathi & Dr.G. Ramanjaneyulu NULLidu         MBBS, MD, DCP   \n",
      "4               Dr. Shiva kumar & Dr. SwapNULL   MBBS, MD (Pathology)   \n",
      "\n",
      "     Category Blood_Component_Available Apheresis Service_Time  \\\n",
      "0  Government                       YES        NO         24X7   \n",
      "1  Government                        NO        NO         24X7   \n",
      "2     Charity                        NO        NO         24X7   \n",
      "3     Charity                       YES        NO         24x7   \n",
      "4  Government                       YES        NO         24x7   \n",
      "\n",
      "  Date_License_Obtained   Latitude  Longitude  \n",
      "0             14.6.1996  11.675442  92.747338  \n",
      "1            14.06.1996  11.649693  92.717418  \n",
      "2            08.09.2010  11.653229  92.730714  \n",
      "3            22.11.2005  14.654936  77.609915  \n",
      "4            28.01.1997  14.671459  77.596684  \n"
     ]
    }
   ],
   "source": [
    "# importing libraries\n",
    "import seaborn as sns\n",
    "import matplotlib.pyplot as plt\n",
    "import mysql.connector\n",
    "import pandas as pd\n",
    "\n",
    "# Define connection parameters\n",
    "connection = mysql.connector.connect(\n",
    "    host=\"127.0.0.1\",        # Change if you're connecting to a remote server\n",
    "    database=\"project\",      # Your database name\n",
    "    user=\"root\",             # Your MySQL username\n",
    "    password=\"root\"          # Your MySQL password\n",
    ")\n",
    "\n",
    "# Check if connection is successful\n",
    "if connection.is_connected():\n",
    "    print(\"Connected to MySQL\")\n",
    "\n",
    "    # Create a cursor object to interact with the database\n",
    "    cursor = connection.cursor()\n",
    "\n",
    "    # Execute a sample query\n",
    "    query = \"SELECT * FROM blood__bank__analysis\"  # Replace with your table name\n",
    "    cursor.execute(query)\n",
    "\n",
    "    # Fetch the results of the query\n",
    "    data = cursor.fetchall()\n",
    "\n",
    "    # Convert the result to a pandas DataFrame\n",
    "    dataset = pd.DataFrame(data, columns=[desc[0] for desc in cursor.description])\n",
    "\n",
    "    # Display the first 5 rows\n",
    "    print(dataset.head())\n"
   ]
  },
  {
   "cell_type": "code",
   "execution_count": 90,
   "id": "baf3c042-ba6d-43fa-8ee9-d175387e26c6",
   "metadata": {},
   "outputs": [
    {
     "name": "stdout",
     "output_type": "stream",
     "text": [
      "                id        Pincode        Mobile     Latitude    Longitude\n",
      "count  1917.000000    1829.000000  1.484000e+03  1917.000000  1917.000000\n",
      "mean   1134.751174  498691.162384  9.783420e+09    17.530702    68.633369\n",
      "std     653.744681  194640.766272  5.571528e+09     8.929996    25.824450\n",
      "min       1.000000  110001.000000  7.766791e+08     0.000000     0.000000\n",
      "25%     603.000000  400053.000000  9.418281e+09    12.132676    74.024688\n",
      "50%    1110.000000  505001.000000  9.480431e+09    18.625716    76.569182\n",
      "75%    1664.000000  635802.000000  9.845162e+09    23.648419    78.499215\n",
      "max    2337.000000  855107.000000  9.986990e+10    40.267194    96.101627\n"
     ]
    }
   ],
   "source": [
    "# Print summary statistics of the dataset\n",
    "print(dataset.describe())\n"
   ]
  },
  {
   "cell_type": "code",
   "execution_count": 91,
   "id": "5820dbfe-a0d6-4eb8-8a99-57f7fc88d64b",
   "metadata": {},
   "outputs": [
    {
     "name": "stdout",
     "output_type": "stream",
     "text": [
      "<class 'pandas.core.frame.DataFrame'>\n",
      "RangeIndex: 1917 entries, 0 to 1916\n",
      "Data columns (total 17 columns):\n",
      " #   Column                     Non-Null Count  Dtype  \n",
      "---  ------                     --------------  -----  \n",
      " 0   id                         1917 non-null   int64  \n",
      " 1   Blood_Bank_Name            1917 non-null   object \n",
      " 2   State                      1917 non-null   object \n",
      " 3   District                   1917 non-null   object \n",
      " 4   City                       1917 non-null   object \n",
      " 5   Pincode                    1829 non-null   float64\n",
      " 6   Mobile                     1484 non-null   float64\n",
      " 7   Email                      1077 non-null   object \n",
      " 8   Name                       1560 non-null   object \n",
      " 9   Qualification              1354 non-null   object \n",
      " 10  Category                   1846 non-null   object \n",
      " 11  Blood_Component_Available  1699 non-null   object \n",
      " 12  Apheresis                  1477 non-null   object \n",
      " 13  Service_Time               1713 non-null   object \n",
      " 14  Date_License_Obtained      1545 non-null   object \n",
      " 15  Latitude                   1917 non-null   float64\n",
      " 16  Longitude                  1917 non-null   float64\n",
      "dtypes: float64(4), int64(1), object(12)\n",
      "memory usage: 254.7+ KB\n",
      "(1917, 17)\n"
     ]
    }
   ],
   "source": [
    "# Show dataset information\n",
    "dataset.info()\n",
    "\n",
    "# Show the shape of the dataset\n",
    "print(dataset.shape)\n"
   ]
  },
  {
   "cell_type": "code",
   "execution_count": 63,
   "id": "5e094867-0fcb-4afb-a112-db8221378569",
   "metadata": {},
   "outputs": [
    {
     "name": "stdout",
     "output_type": "stream",
     "text": [
      "   id                                    Blood_Bank_Name  \\\n",
      "0   1                      G.B. Pant Hospital Blood bank   \n",
      "1   2                                I.N.H.S. Dhanvantri   \n",
      "2   3                    Pillar Health Centre Blood Bank   \n",
      "3   4  Indian Red Cross Society Blood Bank, District ...   \n",
      "4   5             Government General Hospital Blood Bank   \n",
      "\n",
      "                         State       District        City   Pincode  \\\n",
      "0  Andaman And Nicobar Islands  SOUTH ANDAMAN  Port Blair  744104.0   \n",
      "1  Andaman And Nicobar Islands  SOUTH ANDAMAN  Port Blair  744103.0   \n",
      "2  Andaman And Nicobar Islands  SOUTH ANDAMAN  Port Blair  744104.0   \n",
      "3               Andhra Pradesh      AnaNTAPUR   Anantapur  515002.0   \n",
      "4               Andhra Pradesh      ANANTAPUR   Anantapur  515001.0   \n",
      "\n",
      "         Mobile                          Email  \\\n",
      "0  9.434267e+09                           None   \n",
      "1  8.001452e+09                           None   \n",
      "2  9.474248e+09  pillarbloodbank2016@gmail.com   \n",
      "3  9.441192e+09                           None   \n",
      "4  9.866696e+09      bloodbankgghatp@gmail.com   \n",
      "\n",
      "                                           Name         Qualification  \\\n",
      "0                            Dr.Ganesh Samaddar                  None   \n",
      "1                             Dr.Smiriti Mathur  MBBS, MD (Pathology)   \n",
      "2                            Dr. Sr. Cross Mary   MBBS, MD (Medicine)   \n",
      "3  Dr.G. Parvathi & Dr.G. Ramanjaneyulu NULLidu         MBBS, MD, DCP   \n",
      "4               Dr. Shiva kumar & Dr. SwapNULL   MBBS, MD (Pathology)   \n",
      "\n",
      "     Category Blood_Component_Available Apheresis Service_Time  \\\n",
      "0  Government                       YES        NO         24X7   \n",
      "1  Government                        NO        NO         24X7   \n",
      "2     Charity                        NO        NO         24X7   \n",
      "3     Charity                       YES        NO         24x7   \n",
      "4  Government                       YES        NO         24x7   \n",
      "\n",
      "  Date_License_Obtained   Latitude  Longitude  \n",
      "0             14.6.1996  11.675442  92.747338  \n",
      "1            14.06.1996  11.649693  92.717418  \n",
      "2            08.09.2010  11.653229  92.730714  \n",
      "3            22.11.2005  14.654936  77.609915  \n",
      "4            28.01.1997  14.671459  77.596684  \n"
     ]
    }
   ],
   "source": [
    "\n",
    "\n",
    "# Display the first 5 rows of the result\n",
    "print(dataset.head())\n"
   ]
  },
  {
   "cell_type": "code",
   "execution_count": 92,
   "id": "8f4ea594-1150-4a09-94c7-a7fe7a87ab64",
   "metadata": {},
   "outputs": [
    {
     "name": "stdout",
     "output_type": "stream",
     "text": [
      "<class 'pandas.core.frame.DataFrame'>\n",
      "RangeIndex: 1917 entries, 0 to 1916\n",
      "Data columns (total 17 columns):\n",
      " #   Column                     Non-Null Count  Dtype  \n",
      "---  ------                     --------------  -----  \n",
      " 0   id                         1917 non-null   int64  \n",
      " 1   Blood_Bank_Name            1917 non-null   object \n",
      " 2   State                      1917 non-null   object \n",
      " 3   District                   1917 non-null   object \n",
      " 4   City                       1917 non-null   object \n",
      " 5   Pincode                    1829 non-null   float64\n",
      " 6   Mobile                     1484 non-null   float64\n",
      " 7   Email                      1077 non-null   object \n",
      " 8   Name                       1560 non-null   object \n",
      " 9   Qualification              1354 non-null   object \n",
      " 10  Category                   1846 non-null   object \n",
      " 11  Blood_Component_Available  1699 non-null   object \n",
      " 12  Apheresis                  1477 non-null   object \n",
      " 13  Service_Time               1713 non-null   object \n",
      " 14  Date_License_Obtained      1545 non-null   object \n",
      " 15  Latitude                   1917 non-null   float64\n",
      " 16  Longitude                  1917 non-null   float64\n",
      "dtypes: float64(4), int64(1), object(12)\n",
      "memory usage: 254.7+ KB\n",
      "(1917, 17)\n"
     ]
    }
   ],
   "source": [
    "# Show dataset information\n",
    "dataset.info()\n",
    "\n",
    "# Show the shape of the dataset\n",
    "print(dataset.shape)\n"
   ]
  },
  {
   "cell_type": "code",
   "execution_count": 93,
   "id": "1ee407fb-9c6a-49ee-b47e-8f783e5c6d11",
   "metadata": {},
   "outputs": [
    {
     "name": "stdout",
     "output_type": "stream",
     "text": [
      "        id                                    Blood_Bank_Name      State  \\\n",
      "1912  2332            SVS Medical College Hospital Blood Bank  Telangana   \n",
      "1913  2333  Maheshwara Medical College and Maheshwara Hosp...  Telangana   \n",
      "1914  2334         Bharat Heavy Electricals Limited Hospital   Telangana   \n",
      "1915  2336                    M.N.R. Medical College Hospital  Telangana   \n",
      "1916  2337                           Indian Red Cross Society  Telangana   \n",
      "\n",
      "          District               City   Pincode        Mobile  \\\n",
      "1912  MAHBUBNALGAR          Yenugonda       NaN  9.951174e+09   \n",
      "1913         MEDAK  Patancheru Mandal  502307.0  7.032888e+09   \n",
      "1914         MEDAK   Ramachandrapuram  502032.0  9.440214e+09   \n",
      "1915         MEDAK         Sangareddy       NaN  9.989568e+09   \n",
      "1916         MEDAK           Siddipet  502103.0  9.440037e+09   \n",
      "\n",
      "                                   Email             Name    Qualification  \\\n",
      "1912                                None             None             None   \n",
      "1913  maheshwaramedicalcollege@gmail.com      Dr. Sridevi  MD ( Pathology)   \n",
      "1914     NULLndagopalgollapudi@yahoo.com             None             None   \n",
      "1915                                None             None             None   \n",
      "1916                bbircssdpt@gmail.com  Dr. C Ram Mohan   MD (Pathology)   \n",
      "\n",
      "        Category Blood_Component_Available Apheresis Service_Time  \\\n",
      "1912     Private                      None      None         None   \n",
      "1913     Private                        NO        NO         24x7   \n",
      "1914  Government                      None      None         24x7   \n",
      "1915     Private                      None      None         None   \n",
      "1916  Government                        NO        NO         24x7   \n",
      "\n",
      "     Date_License_Obtained   Latitude  Longitude  \n",
      "1912                  None   0.000000   0.000000  \n",
      "1913            13-06-2014  17.562407  78.205210  \n",
      "1914                  None  17.496713  78.305268  \n",
      "1915                  None   0.000000   0.000000  \n",
      "1916            20-11-2008  18.098842  78.841390  \n"
     ]
    }
   ],
   "source": [
    "print(dataset.tail())\n"
   ]
  },
  {
   "cell_type": "code",
   "execution_count": 94,
   "id": "1cbc24bd-2c80-43b8-8855-8182c5ef9211",
   "metadata": {},
   "outputs": [
    {
     "name": "stdout",
     "output_type": "stream",
     "text": [
      "id                             0\n",
      "Blood_Bank_Name                0\n",
      "State                          0\n",
      "District                       0\n",
      "City                           0\n",
      "Pincode                       88\n",
      "Mobile                       433\n",
      "Email                        840\n",
      "Name                         357\n",
      "Qualification                563\n",
      "Category                      71\n",
      "Blood_Component_Available    218\n",
      "Apheresis                    440\n",
      "Service_Time                 204\n",
      "Date_License_Obtained        372\n",
      "Latitude                       0\n",
      "Longitude                      0\n",
      "dtype: int64\n"
     ]
    }
   ],
   "source": [
    "print(dataset.isnull().sum())  # Count missing values per column"
   ]
  },
  {
   "cell_type": "code",
   "execution_count": 112,
   "id": "52609157-d85a-464c-8e5e-6ed476a3754c",
   "metadata": {},
   "outputs": [
    {
     "name": "stdout",
     "output_type": "stream",
     "text": [
      "Number of duplicate rows: 0\n"
     ]
    }
   ],
   "source": [
    "# Remove rows with missing values\n",
    "dataset.dropna(inplace=True)\n",
    "\n",
    "# Check for duplicate rows\n",
    "print(\"Number of duplicate rows:\", dataset.duplicated().sum())\n",
    "\n",
    "# Drop duplicate rows\n",
    "dataset = dataset.drop_duplicates()\n"
   ]
  },
  {
   "cell_type": "code",
   "execution_count": 113,
   "id": "a5399966-2342-4717-8126-75e91f8a58bf",
   "metadata": {},
   "outputs": [
    {
     "data": {
      "text/plain": [
       "id                             int64\n",
       "Blood_Bank_Name               object\n",
       "State                         object\n",
       "District                      object\n",
       "City                          object\n",
       "Pincode                      float64\n",
       "Mobile                       float64\n",
       "Email                         object\n",
       "Name                          object\n",
       "Qualification                 object\n",
       "Category                      object\n",
       "Blood_Component_Available     object\n",
       "Apheresis                     object\n",
       "Service_Time                  object\n",
       "Date_License_Obtained         object\n",
       "Latitude                     float64\n",
       "Longitude                    float64\n",
       "dtype: object"
      ]
     },
     "execution_count": 113,
     "metadata": {},
     "output_type": "execute_result"
    }
   ],
   "source": [
    "dataset.dtypes"
   ]
  },
  {
   "cell_type": "code",
   "execution_count": 114,
   "id": "cfb92e61-9199-48a1-afc3-33c1ab80dec1",
   "metadata": {},
   "outputs": [
    {
     "name": "stdout",
     "output_type": "stream",
     "text": [
      "Average Pincode: 489248.5608011445\n"
     ]
    }
   ],
   "source": [
    "average_pincode = dataset['Pincode'].mean()\n",
    "print(f'Average Pincode: {average_pincode}')\n"
   ]
  },
  {
   "cell_type": "code",
   "execution_count": 115,
   "id": "58ac93f4-3e66-4335-bae9-9a9c1c2ec4ae",
   "metadata": {},
   "outputs": [
    {
     "name": "stdout",
     "output_type": "stream",
     "text": [
      "Blood Banks with Qualification Listed: 699\n"
     ]
    }
   ],
   "source": [
    "qualification_count = dataset['Qualification'].notna().sum()\n",
    "print(f'Blood Banks with Qualification Listed: {qualification_count}')\n"
   ]
  },
  {
   "cell_type": "code",
   "execution_count": 116,
   "id": "8ba85439-134b-4939-bd63-00425f4ff68c",
   "metadata": {},
   "outputs": [
    {
     "name": "stdout",
     "output_type": "stream",
     "text": [
      "Blood Banks with Apheresis Service: 699\n"
     ]
    }
   ],
   "source": [
    "apheresis_count = dataset['Apheresis'].notna().sum()\n",
    "print(f'Blood Banks with Apheresis Service: {apheresis_count}')\n"
   ]
  },
  {
   "cell_type": "code",
   "execution_count": 117,
   "id": "b0b586ca-de50-4ea3-b18b-2894db0afd4d",
   "metadata": {},
   "outputs": [
    {
     "data": {
      "image/png": "[encoded data removed]",
      "text/plain": [
       "<Figure size 700x400 with 1 Axes>"
      ]
     },
     "metadata": {},
     "output_type": "display_data"
    }
   ],
   "source": [
    "# Set figure size for better visibility\n",
    "plt.figure(figsize=(7, 4))\n",
    "\n",
    "# Plotting the distribution of categories, not pincodes\n",
    "plt.hist(dataset['Category'].dropna(), bins=len(dataset['Category'].unique()), color='skyblue', edgecolor='black')\n",
    "\n",
    "# Title and axis labels\n",
    "plt.title('Distribution of Blood Bank Categories')\n",
    "plt.xlabel('Category')\n",
    "plt.ylabel('Frequency')\n",
    "\n",
    "# Show the plot\n",
    "plt.xticks(rotation=45)  # Rotate category labels for better readability\n",
    "plt.show()\n",
    "\n"
   ]
  },
  {
   "cell_type": "code",
   "execution_count": 105,
   "id": "63396fba-11f6-4a49-bff7-9aefc2a31417",
   "metadata": {},
   "outputs": [
    {
     "data": {
      "image/png": "[encoded data removed]",
      "text/plain": [
       "<Figure size 1000x600 with 1 Axes>"
      ]
     },
     "metadata": {},
     "output_type": "display_data"
    }
   ],
   "source": [
    "# Count occurrences of each category in the Blood_Component_Available column\n",
    "category_counts = dataset['Blood_Component_Available'].value_counts()\n",
    "\n",
    "# Set figure size for better visualization\n",
    "plt.figure(figsize=(10, 6))\n",
    "\n",
    "# Plot bar chart to visualize the counts of available blood components\n",
    "category_counts.plot(kind='bar', color='skyblue')\n",
    "\n",
    "# Title and axis labels for clarity\n",
    "plt.title('Count of Available Blood Components')\n",
    "plt.xlabel('Blood Component Available')\n",
    "plt.ylabel('Count')\n",
    "\n",
    "# Rotate x-axis labels for better readability\n",
    "plt.xticks(rotation=45)\n",
    "\n",
    "# Display the plot\n",
    "plt.show()\n"
   ]
  },
  {
   "cell_type": "code",
   "execution_count": 51,
   "id": "a933e8b3-eea5-4a76-86f3-a6214f7d9f6e",
   "metadata": {},
   "outputs": [
    {
     "data": {
      "image/png": "[encoded data removed]",
      "text/plain": [
       "<Figure size 1000x600 with 1 Axes>"
      ]
     },
     "metadata": {},
     "output_type": "display_data"
    }
   ],
   "source": [
    "# Count occurrences of each state in the dataset\n",
    "state_counts = dataset['State'].value_counts()\n",
    "\n",
    "plt.figure(figsize=(10, 6))  # Set figure size for better visualization\n",
    "\n",
    "# Plot bar chart for blood bank counts per state\n",
    "state_counts.plot(kind='bar', color='lightblue')\n",
    "\n",
    "# Add plot title and axis labels\n",
    "plt.title('Blood Bank Count per State')\n",
    "plt.xlabel('State')\n",
    "plt.ylabel('Number of Blood Banks')\n",
    "\n",
    "# Rotate x-axis labels to avoid overlapping\n",
    "plt.xticks(rotation=90)\n",
    "\n",
    "# Show the plot\n",
    "plt.show()\n"
   ]
  },
  {
   "cell_type": "code",
   "execution_count": 106,
   "id": "f3152952-d115-403e-8679-bec31db2866a",
   "metadata": {},
   "outputs": [
    {
     "data": {
      "image/png": "[encoded data removed]",
      "text/plain": [
       "<Figure size 1000x600 with 1 Axes>"
      ]
     },
     "metadata": {},
     "output_type": "display_data"
    }
   ],
   "source": [
    "# Count occurrences of blood banks per district\n",
    "district_counts = dataset['District'].value_counts()\n",
    "\n",
    "plt.figure(figsize=(10, 6))  # Set figure size for better visibility\n",
    "\n",
    "# Plot bar chart for the top 10 districts with the highest blood bank counts\n",
    "district_counts.head(10).plot(kind='bar', color='green')\n",
    "\n",
    "# Add plot title and axis labels for clarity\n",
    "plt.title('Top 10 Blood Banks by District')\n",
    "plt.xlabel('District')\n",
    "plt.ylabel('Number of Blood Banks')\n",
    "\n",
    "# Rotate x-axis labels for better readability\n",
    "plt.xticks(rotation=45)\n",
    "\n",
    "# Show the plot\n",
    "plt.show()\n",
    "\n"
   ]
  },
  {
   "cell_type": "code",
   "execution_count": 107,
   "id": "18df0d91-9d3f-4e10-8700-f7b2c6a39f3d",
   "metadata": {},
   "outputs": [
    {
     "name": "stdout",
     "output_type": "stream",
     "text": [
      "Blood Banks with Mobile Number: 699\n"
     ]
    }
   ],
   "source": [
    "# How many blood banks have a phone number (Mobile)?\n",
    "mobile_count = dataset['Mobile'].notna().sum()\n",
    "print(f'Blood Banks with Mobile Number: {mobile_count}')\n"
   ]
  },
  {
   "cell_type": "code",
   "execution_count": 108,
   "id": "38b2c3db-93f5-40c3-95ce-d29ed8c0b122",
   "metadata": {},
   "outputs": [
    {
     "data": {
      "image/png": "[encoded data removed]",
      "text/plain": [
       "<Figure size 800x800 with 1 Axes>"
      ]
     },
     "metadata": {},
     "output_type": "display_data"
    }
   ],
   "source": [
    "# Get the counts for each blood component\n",
    "category_counts = dataset['Blood_Component_Available'].value_counts()\n",
    "\n",
    "# Create the donut chart\n",
    "plt.figure(figsize=(8, 8))\n",
    "plt.pie(category_counts, labels=category_counts.index, autopct='%1.1f%%', startangle=90, \n",
    "        colors=plt.cm.Paired.colors, wedgeprops={'width': 0.4})\n",
    "\n",
    "# Add a title\n",
    "plt.title('Count of Available Blood Components')\n",
    "\n",
    "# Display the plot\n",
    "plt.show()\n"
   ]
  },
  {
   "cell_type": "code",
   "execution_count": 56,
   "id": "8b21aa68-ce31-4d90-80ed-d4a3ae337046",
   "metadata": {},
   "outputs": [
    {
     "name": "stdout",
     "output_type": "stream",
     "text": [
      "            Pincode  Latitude  Longitude\n",
      "Pincode    1.000000 -0.436077   0.187427\n",
      "Latitude  -0.436077  1.000000   0.473092\n",
      "Longitude  0.187427  0.473092   1.000000\n"
     ]
    },
    {
     "data": {
      "image/png": "[encoded data removed]",
      "text/plain": [
       "<Figure size 800x600 with 2 Axes>"
      ]
     },
     "metadata": {},
     "output_type": "display_data"
    }
   ],
   "source": [
    "# Calculate correlation matrix for Pincode, Latitude, Longitude\n",
    "correlation = dataset[['Pincode', 'Latitude', 'Longitude']].corr()\n",
    "print(correlation)\n",
    "\n",
    "# Plot the correlation matrix\n",
    "import seaborn as sns\n",
    "plt.figure(figsize=(8, 6))\n",
    "sns.heatmap(correlation, annot=True, cmap='coolwarm', fmt='.2f')\n",
    "plt.title('Correlation Matrix of Pincode, Latitude, and Longitude')\n",
    "plt.show()\n"
   ]
  },
  {
   "cell_type": "code",
   "execution_count": 109,
   "id": "d831c61c-ed25-4bd5-97d0-50c00b0699ef",
   "metadata": {},
   "outputs": [
    {
     "data": {
      "image/png": "[encoded data removed]",
      "text/plain": [
       "<Figure size 800x600 with 1 Axes>"
      ]
     },
     "metadata": {},
     "output_type": "display_data"
    }
   ],
   "source": [
    "# Get the counts for each blood bank category (e.g., Government, Charity, etc.)\n",
    "category_counts = dataset['Category'].value_counts()\n",
    "\n",
    "# Set the figure size for better visualization\n",
    "plt.figure(figsize=(8, 6))\n",
    "\n",
    "# Create a pie chart with percentage labels and custom colors\n",
    "plt.pie(category_counts, labels=category_counts.index, autopct='%1.1f%%', startangle=90, \n",
    "        colors=['navy', 'skyblue', 'green', 'teal'])\n",
    "\n",
    "# Add a title to the chart\n",
    "plt.title('Blood Bank Categories Distribution')\n",
    "\n",
    "# Ensure the pie chart is drawn as a circle\n",
    "plt.axis('equal')\n",
    "\n",
    "# Display the plot\n",
    "plt.show()\n"
   ]
  },
  {
   "cell_type": "code",
   "execution_count": 22,
   "id": "e6ffd5d8-fcf6-41b8-9724-5c1f277d55fe",
   "metadata": {},
   "outputs": [
    {
     "data": {
      "image/png": "[encoded data removed]",
      "text/plain": [
       "<Figure size 1000x600 with 1 Axes>"
      ]
     },
     "metadata": {},
     "output_type": "display_data"
    }
   ],
   "source": [
    "# Assuming service time is numerical or can be categorized\n",
    "service_time_counts = dataset['Service_Time'].value_counts().sort_index()\n",
    "\n",
    "plt.figure(figsize=(10, 6))\n",
    "service_time_counts.plot(kind='line', marker='o', color='green')\n",
    "plt.title('Blood Bank Service Time Distribution')\n",
    "plt.xlabel('Service Time')\n",
    "plt.ylabel('Number of Blood Banks')\n",
    "plt.xticks(rotation=45)\n",
    "plt.show()\n"
   ]
  },
  {
   "cell_type": "code",
   "execution_count": 110,
   "id": "a2b43949-280b-4028-8c76-14c41894ca00",
   "metadata": {},
   "outputs": [
    {
     "data": {
      "application/vnd.plotly.v1+json": {
       "config": {
        "plotlyServerURL": "https://plot.ly"
       },
       "data": [
        {
         "geo": "geo",
         "hovertemplate": "Latitude=%{lat}<br>Longitude=%{lon}<extra></extra>",
         "lat": [
          11.653229,
          14.671459,
          14.113089,
          13.217176,
          13.21698,
          12.791223,
          13.556927,
          13.642148,
          16.592169,
          16.989065,
          17.00787,
          16.299747,
          16.29882,
          16.193331,
          16.017425,
          16.243428,
          16.349045,
          16.506174,
          16.51304,
          16.510309,
          16.51343,
          15.816357,
          15.469336,
          15.825971,
          15.736154,
          15.505723,
          14.426777,
          18.312884,
          17.686427,
          17.70667,
          17.686816,
          17.686816,
          17.720274,
          17.784938,
          17.689433,
          18.110022,
          18.106658,
          16.543064,
          16.711919,
          18.179738,
          17.125307,
          16.45196,
          16.517455,
          16.757173,
          16.414033,
          14.467354,
          14.467354,
          14.422232,
          27.139258,
          28.071544,
          27.559574,
          27.588943,
          28.641662,
          28.169282,
          26.456671,
          26.492861,
          24.775578,
          24.826127,
          24.808015,
          26.437551,
          27.458026,
          26.034365,
          27.4898858,
          27.359192,
          26.142267,
          26.164643,
          26.510171,
          26.591371,
          24.671769,
          26.742573,
          0,
          26.185505,
          26.149823,
          26.16274,
          26.135133,
          26.151872,
          26.1391,
          26.159914,
          26.176689,
          26.104222,
          26.161206,
          25.844281,
          24.867595,
          26.452881,
          27.242685,
          26.344942,
          26.344263,
          26.448222,
          26.440614,
          26.981201,
          26.955222,
          26.628524,
          26.655397,
          27.39287,
          27.289292,
          27.498632,
          27.490438,
          25.4138,
          25.264217,
          25.559303,
          26.647477,
          40.267194,
          25.039579,
          26.596243,
          30.765913,
          30.74211,
          30.709289,
          30.751021,
          22.087621,
          22.087007,
          22.086695,
          22.078658,
          21.216312,
          21.251525,
          21.187096,
          21.189732,
          0,
          22.036,
          20.264724,
          0,
          22.358763,
          21.1193227,
          21.927279,
          21.25076,
          21.15,
          0,
          21.240907,
          21.235832,
          21.246825,
          21.25435,
          21.263533,
          21.244963,
          21.258245,
          21.086463,
          23.134176,
          23.117556,
          20.712855,
          28.618675,
          28.63566,
          28.638986,
          28.648838,
          28.617839,
          28.633501,
          28.655875,
          28.602512,
          28.636518,
          28.533218,
          28.665135,
          28.677715,
          28.606008,
          28.691886,
          28.70612,
          28.641636,
          28.651772,
          28.527686,
          28.513434,
          28.568128,
          28.560455,
          28.513711,
          28.519397,
          28.642777,
          28.583437,
          15.463768,
          23.035285,
          22.999464,
          23.051227,
          23.082702,
          23.039061,
          23.006225,
          23.057858,
          23.048798,
          21.606994,
          22.554608,
          22.596385,
          22.556549,
          22.539473,
          24.170367,
          24.175017,
          24.162436,
          24.499781,
          24.499588,
          21.725118,
          21.76982,
          21.088961,
          22.838831,
          22.949278,
          22.608583,
          23.218597,
          23.109635,
          23.420056,
          22.208586,
          21.520666,
          21.520902,
          21.297078,
          23.073501,
          22.833302,
          23.241748,
          23.242291,
          22.021536,
          22.691088,
          23.608546,
          23.607589,
          23.804024,
          20.949882,
          20.947927,
          0,
          22.762228,
          21.633396,
          21.640642,
          21.959147,
          22.295381,
          22.30301,
          22.815814,
          22.283334,
          21.731878,
          23.595692,
          23.056733,
          23.838678,
          23.459892,
          21.172667,
          21.184104,
          21.196246,
          21.195,
          22.7226,
          21.113314,
          22.307133,
          22.314965,
          22.334629,
          20.516862,
          20.59404,
          20.381255,
          20.373994,
          30.252282,
          30.378711,
          30.383042,
          28.277083,
          28.391378,
          28.40274,
          28.422451,
          28.393014,
          28.425756,
          28.406835,
          29.715587,
          28.451204,
          28.439105,
          28.456965,
          28.511841,
          29.157025,
          29.363162,
          28.607735,
          29.378281,
          0,
          0,
          28.136087,
          28.439332,
          28.187832,
          28.202218,
          29.536432,
          29.467914,
          29.149774,
          30.1442,
          31.335735,
          31.609374,
          32.2129086,
          32.0982738,
          31.711561,
          31.1071605,
          31.096648,
          31.4470213,
          30.90738,
          31.4785791,
          34.020827,
          32.736061,
          33.3139274,
          34.06591,
          32.919922,
          23.644138,
          23.633257,
          24.491027,
          23.7976877,
          0,
          23.806393,
          24.267264,
          22.811699,
          22.804227,
          24.158163,
          24.1879903,
          23.0346771,
          0,
          24.188289,
          23.441722,
          24.047051,
          23.6484192,
          23.313367,
          23.388964,
          23.408788,
          23.4507571,
          23.3451234,
          23.3691335,
          23.349938,
          0,
          25.235841,
          22.6149779,
          22.5505168,
          22.104554,
          0,
          16.325218,
          12.9649846,
          13.054677,
          12.965837,
          12.969227,
          12.958758,
          12.787186,
          12.803421,
          14.456165,
          14.475314,
          15.380961,
          17.328477,
          17.337775,
          12.996519,
          12.5418511,
          14.4292776,
          16.752789,
          9.259447,
          10.087575,
          10.05335,
          9.993389,
          9.940275,
          12.072392,
          11.759133,
          11.749387,
          12.314687,
          8.929263,
          8.861805,
          8.81078,
          9.589306,
          9.416683,
          9.336697,
          9.393924,
          8.30492,
          8.604603,
          8.4482986,
          10.8217479,
          11.800634,
          23.18006,
          23.26,
          21.204824,
          22.964817,
          22.594249,
          21.824535,
          26.191025,
          22.452716,
          22.714476,
          23.149881,
          22.596278,
          24.069241,
          26.496004,
          24.460273,
          24.00976,
          23.492157,
          25.095043,
          22.054391,
          23.30792,
          25.25408,
          24.413386,
          23.105277,
          23.233015,
          23.571113,
          19.108046,
          18.501067,
          20.004874,
          20.93386,
          20.923,
          21.298921,
          19.877896,
          19.876165,
          19.872123,
          19.872742,
          19.875504,
          19.873384,
          19.87244,
          18.731377,
          21.162022,
          20.532707,
          20.886486,
          19.953683,
          19.970044,
          20.607715,
          20.863814,
          20.904116,
          21.458578,
          19.414671,
          20.170208,
          21.459648,
          19.721787,
          21.011122,
          19.860878,
          16.86221,
          16.186455,
          16.785709,
          16.715186,
          16.698607,
          16.680271,
          18.39451,
          18.401208,
          18.408491,
          18.451173,
          19.162122,
          18.974886,
          19.042954,
          21.126097,
          21.153917,
          21.151511,
          21.123051,
          21.140579,
          21.134294,
          21.135231,
          21.138999,
          19.156029,
          21.554798,
          21.36433536,
          20.55474,
          20.008838,
          17.83503,
          18.515846,
          18.530392,
          18.505035,
          18.487158,
          18.082736,
          19.065019,
          19.008249,
          16.989126,
          17.399914,
          17.019013,
          16.82132,
          16.853702,
          17.288048,
          17.431214,
          17.695093,
          17.686084,
          17.275751,
          15.902781,
          17.66391,
          17.661126,
          17.660077,
          17.562936,
          19.813093,
          19.191526,
          20.739287,
          20.715824,
          20.12259,
          20.39524,
          19.910776,
          20.389322,
          20.389322,
          24.811173,
          24.835805,
          25.583606,
          25.591485,
          25.584829,
          25.438521,
          23.732287,
          23.772714,
          23.48105,
          24.231419,
          22.536684,
          23.909365,
          23.307946,
          25.905078,
          0,
          25.865482,
          25.669384,
          25.596486,
          26.318678,
          26.716467,
          25.710067,
          26.253444,
          26.079008,
          26.002962,
          20.9211366,
          21.20617844,
          20.707443,
          21.493347,
          20.999564,
          21.065246,
          20.474804,
          20.663314,
          19.312434,
          19.93655984,
          20.251662,
          20.849463,
          21.764292,
          22.2692759,
          19.071552,
          22.264089,
          22.2640892,
          10.917635,
          11.903661,
          11.931847,
          11.930442,
          16.729453,
          31.643995,
          31.664656,
          31.51633,
          30.375616,
          30.19344,
          30.192388,
          30.681255,
          30.141667,
          30.40713,
          30.9493,
          30.952504,
          32.040838,
          31.807263,
          31.950081,
          31.330707,
          31.337046,
          31.324038,
          31.363857,
          31.323729,
          31.307531,
          31.306683,
          31.021583,
          31.37571,
          30.890496,
          30.892357,
          30.888281,
          30.889292,
          30.88946,
          30.811673,
          31.184344,
          31.193742,
          31.118537,
          30.370999,
          30.343682,
          30.478441,
          31.238973,
          30.966052,
          30.752837,
          30.69336,
          30.694086,
          30.692232,
          30.706958,
          30.73975,
          30.739307,
          31.274623,
          27.88214,
          27.22366,
          27.230266,
          25.349758,
          26.690079,
          23.858847,
          29.609166,
          26.906044,
          26.914775,
          26.925927,
          26.863267,
          26.856547,
          27.192337,
          26.957297,
          26.854701,
          26.241797,
          25.235099,
          26.282878,
          26.266415,
          26.284673,
          25.144698,
          25.6835288,
          25.217543,
          27.611508,
          24.88629,
          29.903133,
          24.589107,
          24.668857,
          27.316213,
          27.165618,
          13.081279,
          13.078315,
          13.063084,
          13.076019,
          13.079435,
          13.069705,
          13.054709,
          13.095428,
          13.059296,
          13.073689,
          13.108993,
          13.094828,
          13.002059,
          13.01006,
          13.075671,
          13.105854,
          11.009114,
          10.994861,
          11.023686,
          11.003734,
          11.019604,
          10.658046,
          10.665479,
          11.398477,
          11.515577,
          11.756684,
          11.537043,
          12.122192,
          12.132581,
          12.132676,
          10.545977,
          10.370257,
          10.366656,
          10.363893,
          11.336191,
          0,
          11.455893,
          12.677617,
          12.746312,
          12.86981,
          12.832978,
          12.9456,
          8.247696,
          8.200027,
          8.191431,
          0,
          12.5186,
          0,
          0,
          9.926986,
          9.947597,
          9.923292,
          9.915247,
          9.915951,
          9.962367,
          11.10168,
          0,
          11.216752,
          11.23657,
          11.238114,
          11.198683,
          10.180049,
          0,
          11.677233,
          0,
          10.956521,
          10.969246,
          10.421081,
          10.785541,
          10.745435,
          11.347494,
          9.676495,
          11.50223,
          10.123029,
          10.805162,
          8.702599,
          8.952567,
          8.711749,
          8.729758,
          8.733836,
          0,
          10.732509,
          11.076008,
          12.466265,
          12.845971,
          12.786665,
          12.778149,
          12.945268,
          12.92504,
          12.219359,
          11.939851,
          0,
          0,
          18.87247,
          17.423643,
          17.404758,
          17.372522,
          17.398812,
          17.390308,
          17.352329,
          17.37694,
          17.447882,
          17.39928,
          17.385808,
          17.381461,
          17.451375,
          17.42323,
          17.441664,
          17.440396,
          17.424972,
          17.405048,
          18.75955,
          18.438555,
          18.443293,
          18.498565,
          18.454907,
          17.24618,
          17.594134,
          16.233659,
          16,
          16.362312,
          17.562407,
          18.098842
         ],
         "legendgroup": "",
         "lon": [
          92.730714,
          77.596684,
          78.157366,
          79.100329,
          79.100764,
          78.363897,
          78.50085,
          79.421067,
          82.024025,
          82.247465,
          81.785213,
          80.443689,
          80.448888,
          80.019956,
          80.829475,
          80.646397,
          81.049715,
          80.648015,
          80.635644,
          80.63251,
          80.632861,
          78.040317,
          78.482935,
          80.36127,
          79.269125,
          80.049922,
          79.959008,
          83.887717,
          83.218576,
          83.303737,
          83.218482,
          83.218482,
          83.313048,
          83.374975,
          83.211615,
          83.388433,
          83.395551,
          81.515731,
          81.094839,
          83.39551,
          81.273907,
          81.680205,
          81.725342,
          81.679963,
          80.647085,
          78.824134,
          78.824134,
          78.226339,
          95.738757,
          95.325113,
          96.101627,
          91.864896,
          95.025348,
          94.801031,
          90.560234,
          90.551479,
          92.794251,
          92.796159,
          92.795242,
          92.036395,
          94.574533,
          89.963554,
          94.9229632,
          95.323648,
          90.610584,
          90.624877,
          93.964569,
          93.749516,
          92.563355,
          94.195109,
          0,
          91.740485,
          91.786638,
          91.770664,
          91.809429,
          91.694899,
          91.794024,
          91.768498,
          91.753784,
          91.796169,
          91.70941,
          93.433805,
          92.361806,
          89.976397,
          94.106483,
          92.689464,
          92.680991,
          91.435618,
          91.43584,
          94.651794,
          94.611106,
          92.796499,
          92.787317,
          95.62943,
          95.674768,
          95.358861,
          95.363017,
          86.13596,
          87.002126,
          84.661958,
          84.910299,
          86.134902,
          83.607736,
          85.494747,
          76.775488,
          76.755138,
          76.780536,
          76.780967,
          82.152265,
          82.177637,
          82.152539,
          82.145069,
          81.322622,
          81.337451,
          81.279227,
          81.316117,
          0,
          81.221,
          81.495155,
          0,
          82.7203479,
          82.0743057,
          83.359147,
          81.639,
          81.38,
          0,
          81.620688,
          81.652249,
          81.61188,
          81.66339,
          81.649825,
          81.630129,
          81.66018,
          81.030281,
          83.193534,
          83.191169,
          70.988929,
          77.21089,
          77.213327,
          77.23836,
          77.238017,
          77.311452,
          77.308836,
          77.293489,
          77.314182,
          77.217459,
          77.225185,
          77.214542,
          77.224099,
          77.295437,
          77.181583,
          77.129045,
          77.205219,
          77.093105,
          77.214348,
          77.24269,
          77.200338,
          77.273777,
          77.251861,
          77.160438,
          77.18156,
          77.117583,
          73.858813,
          72.617719,
          72.60458,
          72.6055,
          72.525858,
          72.610263,
          72.541921,
          72.552974,
          72.531309,
          71.22186,
          72.960402,
          72.80717,
          72.963992,
          72.890433,
          72.435186,
          72.434692,
          72.414225,
          72.020131,
          72.032557,
          21.725118,
          72.160378,
          71.769089,
          74.254139,
          73.630239,
          73.459578,
          72.641585,
          72.625835,
          72.653181,
          69.651914,
          70.459367,
          70.453799,
          70.246131,
          23.073501,
          69.354198,
          69.67181,
          69.666889,
          73.0772,
          22.691088,
          72.391231,
          72.384975,
          72.389713,
          72.918373,
          73.028072,
          0,
          73.608892,
          21.633396,
          69.604689,
          70.803122,
          70.796956,
          70.787022,
          70.831473,
          70.799999,
          70.450128,
          72.960688,
          72.573372,
          23.838678,
          73.297569,
          72.829951,
          72.813897,
          72.845477,
          72.819444,
          71.649165,
          21.113314,
          73.189731,
          73.195356,
          73.464162,
          72.951211,
          72.922063,
          72.920819,
          72.904781,
          77.049488,
          76.779636,
          76.785947,
          77.454948,
          77.306856,
          77.31823,
          77.316923,
          77.310047,
          77.299823,
          77.318049,
          75.900961,
          77.087719,
          77.040909,
          77.07297,
          76.986694,
          75.722428,
          75.901772,
          76.642891,
          76.337165,
          0,
          0,
          77.327024,
          77.10227,
          76.616935,
          76.619789,
          75.022062,
          75.068864,
          76.808336,
          77.303543,
          76.765248,
          76.569182,
          76.3194044,
          76.3007658,
          76.927209,
          77.1831203,
          77.175267,
          77.6294213,
          77.107075,
          76.2741605,
          74.719824,
          74.853998,
          75.7681239,
          74.856181,
          75.132831,
          86.151112,
          86.173506,
          86.693996,
          86.4356088,
          0,
          86.43059,
          87.251613,
          86.210334,
          86.181256,
          83.802052,
          86.3064543,
          84.5383358,
          0,
          86.306465,
          84.685316,
          84.060447,
          85.5093472,
          85.277743,
          85.349138,
          85.321355,
          85.4370738,
          85.1106008,
          85.2204851,
          85.330008,
          0,
          87.634215,
          84.5028825,
          85.8054811,
          85.291571,
          0,
          75.289397,
          77.589012,
          77.592504,
          77.576262,
          77.536519,
          77.6491,
          77.756942,
          74.898097,
          75.916182,
          75.909787,
          75.600802,
          76.847911,
          76.844343,
          78.240449,
          77.3404064,
          74.4024452,
          77.138698,
          76.596252,
          76.388062,
          76.354918,
          76.291263,
          76.721012,
          75.294333,
          75.478803,
          75.523483,
          75.105095,
          76.91794,
          76.673304,
          76.749075,
          76.519311,
          76.575292,
          76.707947,
          76.578423,
          76.5434,
          76.93258,
          77.127416,
          75.8820596,
          76.001923,
          77.25035,
          77.412,
          76.114212,
          76.046337,
          75.308054,
          76.343016,
          78.155889,
          77.430707,
          75.882875,
          79.881151,
          80.370388,
          75.071826,
          77.998665,
          74.874825,
          76.732073,
          78.451821,
          80.515971,
          79.330324,
          81.352897,
          77.39027,
          81.88065,
          75.463821,
          75.811619,
          80.390813,
          74.73557,
          73.857499,
          73.787165,
          77.760815,
          77.816645,
          77.518316,
          75.354519,
          75.343313,
          75.323251,
          75.387668,
          75.352445,
          75.344972,
          75.323188,
          76.370902,
          79.65973,
          76.180604,
          76.207174,
          79.296742,
          79.30788,
          79.855757,
          74.761869,
          74.77767,
          74.961094,
          80.003753,
          79.982909,
          80.196834,
          77.154487,
          75.567945,
          75.664447,
          74.240034,
          74.372559,
          74.56459,
          74.256447,
          74.223891,
          74.461733,
          76.578201,
          76.580639,
          76.551573,
          73.89143,
          72.942063,
          72.835711,
          72.84073,
          79.097101,
          79.092894,
          79.105434,
          79.057149,
          79.060505,
          79.076369,
          79.072978,
          79.063093,
          77.309,
          74.472874,
          74.24463853,
          74.524396,
          73.7702,
          76.622149,
          73.858714,
          73.876808,
          73.927256,
          73.857098,
          73.42265,
          73.064507,
          73.108321,
          73.298866,
          73.547448,
          73.298977,
          74.649492,
          74.575077,
          74.186177,
          74.549364,
          74.010716,
          74.007955,
          74.18181,
          73.823544,
          75.900793,
          0,
          75.906391,
          75.265589,
          72.743519,
          72.95169,
          78.660927,
          78.575564,
          77.127893,
          78.118668,
          77.569957,
          78.118544,
          78.118544,
          93.961697,
          93.914217,
          91.884132,
          91.940381,
          91.875283,
          92.199331,
          92.716561,
          92.731326,
          93.3097,
          92.676799,
          92.888179,
          92.494861,
          92.856366,
          93.731607,
          0,
          93.771446,
          94.095902,
          94.12323,
          94.52071,
          95.02633,
          94.464482,
          94.817879,
          94.259206,
          94.523584,
          84.8567932,
          84.93461609,
          83.494856,
          86.935961,
          83.060982,
          86.502463,
          85.888633,
          85.597065,
          84.810241,
          84.57996368,
          86.179783,
          86.328963,
          85.973327,
          86.1564211,
          83.809261,
          84.865108,
          84.8651084,
          79.836804,
          79.701071,
          79.83303,
          79.834177,
          82.216893,
          74.86651,
          74.918134,
          75.288007,
          75.544877,
          74.947545,
          74.946979,
          74.747606,
          74.198522,
          74.024688,
          74.619453,
          74.607649,
          75.403333,
          75.665537,
          75.613623,
          75.565197,
          75.563262,
          75.567511,
          75.550527,
          75.578156,
          75.567277,
          75.595821,
          75.790012,
          75.381995,
          75.884942,
          75.811069,
          75.845858,
          75.935144,
          75.837507,
          75.169349,
          75.995988,
          75.948973,
          76.116853,
          76.146125,
          76.399514,
          76.584065,
          76.494595,
          76.52516,
          76.632796,
          76.698763,
          76.730141,
          76.733098,
          76.708016,
          76.714419,
          76.713957,
          74.853386,
          76.286106,
          77.506446,
          77.477799,
          74.643888,
          77.899636,
          73.71089,
          74.297906,
          75.816216,
          75.824649,
          75.806748,
          75.805818,
          75.800524,
          75.954816,
          75.777845,
          75.82519,
          73.021563,
          72.504023,
          73.018759,
          73.009226,
          73.009906,
          75.837722,
          81.9984388,
          75.837287,
          75.149061,
          72.859424,
          73.873964,
          73.692338,
          73.70231,
          88.597237,
          88.360388,
          80.27678,
          80.243824,
          80.251472,
          80.181451,
          80.257308,
          80.260797,
          80.265073,
          80.219317,
          80.278431,
          80.259207,
          80.288403,
          80.240417,
          80.24716,
          80.258702,
          80.227297,
          80.285439,
          77.023704,
          76.969577,
          76.976713,
          77.038048,
          76.994964,
          77.009584,
          77.007079,
          79.718821,
          79.316767,
          79.759266,
          79.467181,
          78.156738,
          78.161182,
          78.161652,
          77.725236,
          77.980644,
          77.977708,
          77.976364,
          77.718506,
          0,
          77.42957,
          79.98029,
          80.132393,
          79.715799,
          79.710277,
          80.134345,
          77.313237,
          77.43068,
          77.423288,
          0,
          78.2137,
          0,
          0,
          78.131758,
          78.162318,
          78.140268,
          78.119525,
          78.125557,
          77.788596,
          79.647377,
          0,
          78.168939,
          78.860775,
          78.864898,
          78.872944,
          79.000136,
          0,
          78.135322,
          0,
          79.37494,
          79.385655,
          79.317866,
          79.1366,
          79.111902,
          76.792608,
          77.240608,
          76.498838,
          77.53294,
          78.686566,
          77.385988,
          77.315522,
          77.75082,
          77.719592,
          77.723049,
          0,
          77.530473,
          77.36898,
          79.335994,
          79.135775,
          78.716928,
          78.720022,
          78.870574,
          79.136105,
          79.654492,
          79.487355,
          0,
          0,
          79.444699,
          78.425977,
          78.482139,
          78.473807,
          78.462087,
          78.481143,
          78.506534,
          78.34905,
          78.439955,
          78.479256,
          78.48723,
          78.480605,
          78.436556,
          78.504138,
          78.497002,
          78.500468,
          78.535869,
          78.508731,
          79.481638,
          79.128841,
          79.12973,
          79.151148,
          79.13294,
          80.832243,
          80.322363,
          77.808136,
          78.0011525,
          78.062182,
          78.20521,
          78.84139
         ],
         "marker": {
          "color": "#636efa",
          "symbol": "circle"
         },
         "mode": "markers",
         "name": "",
         "showlegend": false,
         "type": "scattergeo"
        }
       ],
       "layout": {
        "autosize": true,
        "geo": {
         "center": {
          "lat": -13.495066409482487,
          "lon": 65.65357659589154
         },
         "domain": {
          "x": [
           0,
           1
          ],
          "y": [
           0,
           1
          ]
         },
         "projection": {
          "rotation": {
           "lon": 65.65357659589154
          },
          "scale": 0.757858283255199
         }
        },
        "legend": {
         "tracegroupgap": 0
        },
        "template": {
         "data": {
          "bar": [
           {
            "error_x": {
             "color": "#2a3f5f"
            },
            "error_y": {
             "color": "#2a3f5f"
            },
            "marker": {
             "line": {
              "color": "#E5ECF6",
              "width": 0.5
             },
             "pattern": {
              "fillmode": "overlay",
              "size": 10,
              "solidity": 0.2
             }
            },
            "type": "bar"
           }
          ],
          "barpolar": [
           {
            "marker": {
             "line": {
              "color": "#E5ECF6",
              "width": 0.5
             },
             "pattern": {
              "fillmode": "overlay",
              "size": 10,
              "solidity": 0.2
             }
            },
            "type": "barpolar"
           }
          ],
          "carpet": [
           {
            "aaxis": {
             "endlinecolor": "#2a3f5f",
             "gridcolor": "white",
             "linecolor": "white",
             "minorgridcolor": "white",
             "startlinecolor": "#2a3f5f"
            },
            "baxis": {
             "endlinecolor": "#2a3f5f",
             "gridcolor": "white",
             "linecolor": "white",
             "minorgridcolor": "white",
             "startlinecolor": "#2a3f5f"
            },
            "type": "carpet"
           }
          ],
          "choropleth": [
           {
            "colorbar": {
             "outlinewidth": 0,
             "ticks": ""
            },
            "type": "choropleth"
           }
          ],
          "contour": [
           {
            "colorbar": {
             "outlinewidth": 0,
             "ticks": ""
            },
            "colorscale": [
             [
              0,
              "#0d0887"
             ],
             [
              0.1111111111111111,
              "#46039f"
             ],
             [
              0.2222222222222222,
              "#7201a8"
             ],
             [
              0.3333333333333333,
              "#9c179e"
             ],
             [
              0.4444444444444444,
              "#bd3786"
             ],
             [
              0.5555555555555556,
              "#d8576b"
             ],
             [
              0.6666666666666666,
              "#ed7953"
             ],
             [
              0.7777777777777778,
              "#fb9f3a"
             ],
             [
              0.8888888888888888,
              "#fdca26"
             ],
             [
              1,
              "#f0f921"
             ]
            ],
            "type": "contour"
           }
          ],
          "contourcarpet": [
           {
            "colorbar": {
             "outlinewidth": 0,
             "ticks": ""
            },
            "type": "contourcarpet"
           }
          ],
          "heatmap": [
           {
            "colorbar": {
             "outlinewidth": 0,
             "ticks": ""
            },
            "colorscale": [
             [
              0,
              "#0d0887"
             ],
             [
              0.1111111111111111,
              "#46039f"
             ],
             [
              0.2222222222222222,
              "#7201a8"
             ],
             [
              0.3333333333333333,
              "#9c179e"
             ],
             [
              0.4444444444444444,
              "#bd3786"
             ],
             [
              0.5555555555555556,
              "#d8576b"
             ],
             [
              0.6666666666666666,
              "#ed7953"
             ],
             [
              0.7777777777777778,
              "#fb9f3a"
             ],
             [
              0.8888888888888888,
              "#fdca26"
             ],
             [
              1,
              "#f0f921"
             ]
            ],
            "type": "heatmap"
           }
          ],
          "heatmapgl": [
           {
            "colorbar": {
             "outlinewidth": 0,
             "ticks": ""
            },
            "colorscale": [
             [
              0,
              "#0d0887"
             ],
             [
              0.1111111111111111,
              "#46039f"
             ],
             [
              0.2222222222222222,
              "#7201a8"
             ],
             [
              0.3333333333333333,
              "#9c179e"
             ],
             [
              0.4444444444444444,
              "#bd3786"
             ],
             [
              0.5555555555555556,
              "#d8576b"
             ],
             [
              0.6666666666666666,
              "#ed7953"
             ],
             [
              0.7777777777777778,
              "#fb9f3a"
             ],
             [
              0.8888888888888888,
              "#fdca26"
             ],
             [
              1,
              "#f0f921"
             ]
            ],
            "type": "heatmapgl"
           }
          ],
          "histogram": [
           {
            "marker": {
             "pattern": {
              "fillmode": "overlay",
              "size": 10,
              "solidity": 0.2
             }
            },
            "type": "histogram"
           }
          ],
          "histogram2d": [
           {
            "colorbar": {
             "outlinewidth": 0,
             "ticks": ""
            },
            "colorscale": [
             [
              0,
              "#0d0887"
             ],
             [
              0.1111111111111111,
              "#46039f"
             ],
             [
              0.2222222222222222,
              "#7201a8"
             ],
             [
              0.3333333333333333,
              "#9c179e"
             ],
             [
              0.4444444444444444,
              "#bd3786"
             ],
             [
              0.5555555555555556,
              "#d8576b"
             ],
             [
              0.6666666666666666,
              "#ed7953"
             ],
             [
              0.7777777777777778,
              "#fb9f3a"
             ],
             [
              0.8888888888888888,
              "#fdca26"
             ],
             [
              1,
              "#f0f921"
             ]
            ],
            "type": "histogram2d"
           }
          ],
          "histogram2dcontour": [
           {
            "colorbar": {
             "outlinewidth": 0,
             "ticks": ""
            },
            "colorscale": [
             [
              0,
              "#0d0887"
             ],
             [
              0.1111111111111111,
              "#46039f"
             ],
             [
              0.2222222222222222,
              "#7201a8"
             ],
             [
              0.3333333333333333,
              "#9c179e"
             ],
             [
              0.4444444444444444,
              "#bd3786"
             ],
             [
              0.5555555555555556,
              "#d8576b"
             ],
             [
              0.6666666666666666,
              "#ed7953"
             ],
             [
              0.7777777777777778,
              "#fb9f3a"
             ],
             [
              0.8888888888888888,
              "#fdca26"
             ],
             [
              1,
              "#f0f921"
             ]
            ],
            "type": "histogram2dcontour"
           }
          ],
          "mesh3d": [
           {
            "colorbar": {
             "outlinewidth": 0,
             "ticks": ""
            },
            "type": "mesh3d"
           }
          ],
          "parcoords": [
           {
            "line": {
             "colorbar": {
              "outlinewidth": 0,
              "ticks": ""
             }
            },
            "type": "parcoords"
           }
          ],
          "pie": [
           {
            "automargin": true,
            "type": "pie"
           }
          ],
          "scatter": [
           {
            "fillpattern": {
             "fillmode": "overlay",
             "size": 10,
             "solidity": 0.2
            },
            "type": "scatter"
           }
          ],
          "scatter3d": [
           {
            "line": {
             "colorbar": {
              "outlinewidth": 0,
              "ticks": ""
             }
            },
            "marker": {
             "colorbar": {
              "outlinewidth": 0,
              "ticks": ""
             }
            },
            "type": "scatter3d"
           }
          ],
          "scattercarpet": [
           {
            "marker": {
             "colorbar": {
              "outlinewidth": 0,
              "ticks": ""
             }
            },
            "type": "scattercarpet"
           }
          ],
          "scattergeo": [
           {
            "marker": {
             "colorbar": {
              "outlinewidth": 0,
              "ticks": ""
             }
            },
            "type": "scattergeo"
           }
          ],
          "scattergl": [
           {
            "marker": {
             "colorbar": {
              "outlinewidth": 0,
              "ticks": ""
             }
            },
            "type": "scattergl"
           }
          ],
          "scattermapbox": [
           {
            "marker": {
             "colorbar": {
              "outlinewidth": 0,
              "ticks": ""
             }
            },
            "type": "scattermapbox"
           }
          ],
          "scatterpolar": [
           {
            "marker": {
             "colorbar": {
              "outlinewidth": 0,
              "ticks": ""
             }
            },
            "type": "scatterpolar"
           }
          ],
          "scatterpolargl": [
           {
            "marker": {
             "colorbar": {
              "outlinewidth": 0,
              "ticks": ""
             }
            },
            "type": "scatterpolargl"
           }
          ],
          "scatterternary": [
           {
            "marker": {
             "colorbar": {
              "outlinewidth": 0,
              "ticks": ""
             }
            },
            "type": "scatterternary"
           }
          ],
          "surface": [
           {
            "colorbar": {
             "outlinewidth": 0,
             "ticks": ""
            },
            "colorscale": [
             [
              0,
              "#0d0887"
             ],
             [
              0.1111111111111111,
              "#46039f"
             ],
             [
              0.2222222222222222,
              "#7201a8"
             ],
             [
              0.3333333333333333,
              "#9c179e"
             ],
             [
              0.4444444444444444,
              "#bd3786"
             ],
             [
              0.5555555555555556,
              "#d8576b"
             ],
             [
              0.6666666666666666,
              "#ed7953"
             ],
             [
              0.7777777777777778,
              "#fb9f3a"
             ],
             [
              0.8888888888888888,
              "#fdca26"
             ],
             [
              1,
              "#f0f921"
             ]
            ],
            "type": "surface"
           }
          ],
          "table": [
           {
            "cells": {
             "fill": {
              "color": "#EBF0F8"
             },
             "line": {
              "color": "white"
             }
            },
            "header": {
             "fill": {
              "color": "#C8D4E3"
             },
             "line": {
              "color": "white"
             }
            },
            "type": "table"
           }
          ]
         },
         "layout": {
          "annotationdefaults": {
           "arrowcolor": "#2a3f5f",
           "arrowhead": 0,
           "arrowwidth": 1
          },
          "autotypenumbers": "strict",
          "coloraxis": {
           "colorbar": {
            "outlinewidth": 0,
            "ticks": ""
           }
          },
          "colorscale": {
           "diverging": [
            [
             0,
             "#8e0152"
            ],
            [
             0.1,
             "#c51b7d"
            ],
            [
             0.2,
             "#de77ae"
            ],
            [
             0.3,
             "#f1b6da"
            ],
            [
             0.4,
             "#fde0ef"
            ],
            [
             0.5,
             "#f7f7f7"
            ],
            [
             0.6,
             "#e6f5d0"
            ],
            [
             0.7,
             "#b8e186"
            ],
            [
             0.8,
             "#7fbc41"
            ],
            [
             0.9,
             "#4d9221"
            ],
            [
             1,
             "#276419"
            ]
           ],
           "sequential": [
            [
             0,
             "#0d0887"
            ],
            [
             0.1111111111111111,
             "#46039f"
            ],
            [
             0.2222222222222222,
             "#7201a8"
            ],
            [
             0.3333333333333333,
             "#9c179e"
            ],
            [
             0.4444444444444444,
             "#bd3786"
            ],
            [
             0.5555555555555556,
             "#d8576b"
            ],
            [
             0.6666666666666666,
             "#ed7953"
            ],
            [
             0.7777777777777778,
             "#fb9f3a"
            ],
            [
             0.8888888888888888,
             "#fdca26"
            ],
            [
             1,
             "#f0f921"
            ]
           ],
           "sequentialminus": [
            [
             0,
             "#0d0887"
            ],
            [
             0.1111111111111111,
             "#46039f"
            ],
            [
             0.2222222222222222,
             "#7201a8"
            ],
            [
             0.3333333333333333,
             "#9c179e"
            ],
            [
             0.4444444444444444,
             "#bd3786"
            ],
            [
             0.5555555555555556,
             "#d8576b"
            ],
            [
             0.6666666666666666,
             "#ed7953"
            ],
            [
             0.7777777777777778,
             "#fb9f3a"
            ],
            [
             0.8888888888888888,
             "#fdca26"
            ],
            [
             1,
             "#f0f921"
            ]
           ]
          },
          "colorway": [
           "#636efa",
           "#EF553B",
           "#00cc96",
           "#ab63fa",
           "#FFA15A",
           "#19d3f3",
           "#FF6692",
           "#B6E880",
           "#FF97FF",
           "#FECB52"
          ],
          "font": {
           "color": "#2a3f5f"
          },
          "geo": {
           "bgcolor": "white",
           "lakecolor": "white",
           "landcolor": "#E5ECF6",
           "showlakes": true,
           "showland": true,
           "subunitcolor": "white"
          },
          "hoverlabel": {
           "align": "left"
          },
          "hovermode": "closest",
          "mapbox": {
           "style": "light"
          },
          "paper_bgcolor": "white",
          "plot_bgcolor": "#E5ECF6",
          "polar": {
           "angularaxis": {
            "gridcolor": "white",
            "linecolor": "white",
            "ticks": ""
           },
           "bgcolor": "#E5ECF6",
           "radialaxis": {
            "gridcolor": "white",
            "linecolor": "white",
            "ticks": ""
           }
          },
          "scene": {
           "xaxis": {
            "backgroundcolor": "#E5ECF6",
            "gridcolor": "white",
            "gridwidth": 2,
            "linecolor": "white",
            "showbackground": true,
            "ticks": "",
            "zerolinecolor": "white"
           },
           "yaxis": {
            "backgroundcolor": "#E5ECF6",
            "gridcolor": "white",
            "gridwidth": 2,
            "linecolor": "white",
            "showbackground": true,
            "ticks": "",
            "zerolinecolor": "white"
           },
           "zaxis": {
            "backgroundcolor": "#E5ECF6",
            "gridcolor": "white",
            "gridwidth": 2,
            "linecolor": "white",
            "showbackground": true,
            "ticks": "",
            "zerolinecolor": "white"
           }
          },
          "shapedefaults": {
           "line": {
            "color": "#2a3f5f"
           }
          },
          "ternary": {
           "aaxis": {
            "gridcolor": "white",
            "linecolor": "white",
            "ticks": ""
           },
           "baxis": {
            "gridcolor": "white",
            "linecolor": "white",
            "ticks": ""
           },
           "bgcolor": "#E5ECF6",
           "caxis": {
            "gridcolor": "white",
            "linecolor": "white",
            "ticks": ""
           }
          },
          "title": {
           "x": 0.05
          },
          "xaxis": {
           "automargin": true,
           "gridcolor": "white",
           "linecolor": "white",
           "ticks": "",
           "title": {
            "standoff": 15
           },
           "zerolinecolor": "white",
           "zerolinewidth": 2
          },
          "yaxis": {
           "automargin": true,
           "gridcolor": "white",
           "linecolor": "white",
           "ticks": "",
           "title": {
            "standoff": 15
           },
           "zerolinecolor": "white",
           "zerolinewidth": 2
          }
         }
        },
        "title": {
         "text": "Blood Banks Location on Map"
        }
       }
      },
      "image/png": "[encoded data removed]",
      "text/html": [
       "<div>                            <div id=\"dc0d5b0d-cac9-41d4-a048-b08cb757380c\" class=\"plotly-graph-div\" style=\"height:525px; width:100%;\"></div>            <script type=\"text/javascript\">                require([\"plotly\"], function(Plotly) {                    window.PLOTLYENV=window.PLOTLYENV || {};                                    if (document.getElementById(\"dc0d5b0d-cac9-41d4-a048-b08cb757380c\")) {                    Plotly.newPlot(                        \"dc0d5b0d-cac9-41d4-a048-b08cb757380c\",                        [{\"geo\":\"geo\",\"hovertemplate\":\"Latitude=%{lat}\\u003cbr\\u003eLongitude=%{lon}\\u003cextra\\u003e\\u003c\\u002fextra\\u003e\",\"lat\":[11.653229,14.671459,14.113089,13.217176,13.21698,12.791223,13.556927,13.642148,16.592169,16.989065,17.00787,16.299747,16.29882,16.193331,16.017425,16.243428,16.349045,16.506174,16.51304,16.510309,16.51343,15.816357,15.469336,15.825971,15.736154,15.505723,14.426777,18.312884,17.686427,17.70667,17.686816,17.686816,17.720274,17.784938,17.689433,18.110022,18.106658,16.543064,16.711919,18.179738,17.125307,16.45196,16.517455,16.757173,16.414033,14.467354,14.467354,14.422232,27.139258,28.071544,27.559574,27.588943,28.641662,28.169282,26.456671,26.492861,24.775578,24.826127,24.808015,26.437551,27.458026,26.034365,27.4898858,27.359192,26.142267,26.164643,26.510171,26.591371,24.671769,26.742573,0.0,26.185505,26.149823,26.16274,26.135133,26.151872,26.1391,26.159914,26.176689,26.104222,26.161206,25.844281,24.867595,26.452881,27.242685,26.344942,26.344263,26.448222,26.440614,26.981201,26.955222,26.628524,26.655397,27.39287,27.289292,27.498632,27.490438,25.4138,25.264217,25.559303,26.647477,40.267194,25.039579,26.596243,30.765913,30.74211,30.709289,30.751021,22.087621,22.087007,22.086695,22.078658,21.216312,21.251525,21.187096,21.189732,0.0,22.036,20.264724,0.0,22.358763,21.1193227,21.927279,21.25076,21.15,0.0,21.240907,21.235832,21.246825,21.25435,21.263533,21.244963,21.258245,21.086463,23.134176,23.117556,20.712855,28.618675,28.63566,28.638986,28.648838,28.617839,28.633501,28.655875,28.602512,28.636518,28.533218,28.665135,28.677715,28.606008,28.691886,28.70612,28.641636,28.651772,28.527686,28.513434,28.568128,28.560455,28.513711,28.519397,28.642777,28.583437,15.463768,23.035285,22.999464,23.051227,23.082702,23.039061,23.006225,23.057858,23.048798,21.606994,22.554608,22.596385,22.556549,22.539473,24.170367,24.175017,24.162436,24.499781,24.499588,21.725118,21.76982,21.088961,22.838831,22.949278,22.608583,23.218597,23.109635,23.420056,22.208586,21.520666,21.520902,21.297078,23.073501,22.833302,23.241748,23.242291,22.021536,22.691088,23.608546,23.607589,23.804024,20.949882,20.947927,0.0,22.762228,21.633396,21.640642,21.959147,22.295381,22.30301,22.815814,22.283334,21.731878,23.595692,23.056733,23.838678,23.459892,21.172667,21.184104,21.196246,21.195,22.7226,21.113314,22.307133,22.314965,22.334629,20.516862,20.59404,20.381255,20.373994,30.252282,30.378711,30.383042,28.277083,28.391378,28.40274,28.422451,28.393014,28.425756,28.406835,29.715587,28.451204,28.439105,28.456965,28.511841,29.157025,29.363162,28.607735,29.378281,0.0,0.0,28.136087,28.439332,28.187832,28.202218,29.536432,29.467914,29.149774,30.1442,31.335735,31.609374,32.2129086,32.0982738,31.711561,31.1071605,31.096648,31.4470213,30.90738,31.4785791,34.020827,32.736061,33.3139274,34.06591,32.919922,23.644138,23.633257,24.491027,23.7976877,0.0,23.806393,24.267264,22.811699,22.804227,24.158163,24.1879903,23.0346771,0.0,24.188289,23.441722,24.047051,23.6484192,23.313367,23.388964,23.408788,23.4507571,23.3451234,23.3691335,23.349938,0.0,25.235841,22.6149779,22.5505168,22.104554,0.0,16.325218,12.9649846,13.054677,12.965837,12.969227,12.958758,12.787186,12.803421,14.456165,14.475314,15.380961,17.328477,17.337775,12.996519,12.5418511,14.4292776,16.752789,9.259447,10.087575,10.05335,9.993389,9.940275,12.072392,11.759133,11.749387,12.314687,8.929263,8.861805,8.81078,9.589306,9.416683,9.336697,9.393924,8.30492,8.604603,8.4482986,10.8217479,11.800634,23.18006,23.26,21.204824,22.964817,22.594249,21.824535,26.191025,22.452716,22.714476,23.149881,22.596278,24.069241,26.496004,24.460273,24.00976,23.492157,25.095043,22.054391,23.30792,25.25408,24.413386,23.105277,23.233015,23.571113,19.108046,18.501067,20.004874,20.93386,20.923,21.298921,19.877896,19.876165,19.872123,19.872742,19.875504,19.873384,19.87244,18.731377,21.162022,20.532707,20.886486,19.953683,19.970044,20.607715,20.863814,20.904116,21.458578,19.414671,20.170208,21.459648,19.721787,21.011122,19.860878,16.86221,16.186455,16.785709,16.715186,16.698607,16.680271,18.39451,18.401208,18.408491,18.451173,19.162122,18.974886,19.042954,21.126097,21.153917,21.151511,21.123051,21.140579,21.134294,21.135231,21.138999,19.156029,21.554798,21.36433536,20.55474,20.008838,17.83503,18.515846,18.530392,18.505035,18.487158,18.082736,19.065019,19.008249,16.989126,17.399914,17.019013,16.82132,16.853702,17.288048,17.431214,17.695093,17.686084,17.275751,15.902781,17.66391,17.661126,17.660077,17.562936,19.813093,19.191526,20.739287,20.715824,20.12259,20.39524,19.910776,20.389322,20.389322,24.811173,24.835805,25.583606,25.591485,25.584829,25.438521,23.732287,23.772714,23.48105,24.231419,22.536684,23.909365,23.307946,25.905078,0.0,25.865482,25.669384,25.596486,26.318678,26.716467,25.710067,26.253444,26.079008,26.002962,20.9211366,21.20617844,20.707443,21.493347,20.999564,21.065246,20.474804,20.663314,19.312434,19.93655984,20.251662,20.849463,21.764292,22.2692759,19.071552,22.264089,22.2640892,10.917635,11.903661,11.931847,11.930442,16.729453,31.643995,31.664656,31.51633,30.375616,30.19344,30.192388,30.681255,30.141667,30.40713,30.9493,30.952504,32.040838,31.807263,31.950081,31.330707,31.337046,31.324038,31.363857,31.323729,31.307531,31.306683,31.021583,31.37571,30.890496,30.892357,30.888281,30.889292,30.88946,30.811673,31.184344,31.193742,31.118537,30.370999,30.343682,30.478441,31.238973,30.966052,30.752837,30.69336,30.694086,30.692232,30.706958,30.73975,30.739307,31.274623,27.88214,27.22366,27.230266,25.349758,26.690079,23.858847,29.609166,26.906044,26.914775,26.925927,26.863267,26.856547,27.192337,26.957297,26.854701,26.241797,25.235099,26.282878,26.266415,26.284673,25.144698,25.6835288,25.217543,27.611508,24.88629,29.903133,24.589107,24.668857,27.316213,27.165618,13.081279,13.078315,13.063084,13.076019,13.079435,13.069705,13.054709,13.095428,13.059296,13.073689,13.108993,13.094828,13.002059,13.01006,13.075671,13.105854,11.009114,10.994861,11.023686,11.003734,11.019604,10.658046,10.665479,11.398477,11.515577,11.756684,11.537043,12.122192,12.132581,12.132676,10.545977,10.370257,10.366656,10.363893,11.336191,0.0,11.455893,12.677617,12.746312,12.86981,12.832978,12.9456,8.247696,8.200027,8.191431,0.0,12.5186,0.0,0.0,9.926986,9.947597,9.923292,9.915247,9.915951,9.962367,11.10168,0.0,11.216752,11.23657,11.238114,11.198683,10.180049,0.0,11.677233,0.0,10.956521,10.969246,10.421081,10.785541,10.745435,11.347494,9.676495,11.50223,10.123029,10.805162,8.702599,8.952567,8.711749,8.729758,8.733836,0.0,10.732509,11.076008,12.466265,12.845971,12.786665,12.778149,12.945268,12.92504,12.219359,11.939851,0.0,0.0,18.87247,17.423643,17.404758,17.372522,17.398812,17.390308,17.352329,17.37694,17.447882,17.39928,17.385808,17.381461,17.451375,17.42323,17.441664,17.440396,17.424972,17.405048,18.75955,18.438555,18.443293,18.498565,18.454907,17.24618,17.594134,16.233659,16.0,16.362312,17.562407,18.098842],\"legendgroup\":\"\",\"lon\":[92.730714,77.596684,78.157366,79.100329,79.100764,78.363897,78.50085,79.421067,82.024025,82.247465,81.785213,80.443689,80.448888,80.019956,80.829475,80.646397,81.049715,80.648015,80.635644,80.63251,80.632861,78.040317,78.482935,80.36127,79.269125,80.049922,79.959008,83.887717,83.218576,83.303737,83.218482,83.218482,83.313048,83.374975,83.211615,83.388433,83.395551,81.515731,81.094839,83.39551,81.273907,81.680205,81.725342,81.679963,80.647085,78.824134,78.824134,78.226339,95.738757,95.325113,96.101627,91.864896,95.025348,94.801031,90.560234,90.551479,92.794251,92.796159,92.795242,92.036395,94.574533,89.963554,94.9229632,95.323648,90.610584,90.624877,93.964569,93.749516,92.563355,94.195109,0.0,91.740485,91.786638,91.770664,91.809429,91.694899,91.794024,91.768498,91.753784,91.796169,91.70941,93.433805,92.361806,89.976397,94.106483,92.689464,92.680991,91.435618,91.43584,94.651794,94.611106,92.796499,92.787317,95.62943,95.674768,95.358861,95.363017,86.13596,87.002126,84.661958,84.910299,86.134902,83.607736,85.494747,76.775488,76.755138,76.780536,76.780967,82.152265,82.177637,82.152539,82.145069,81.322622,81.337451,81.279227,81.316117,0.0,81.221,81.495155,0.0,82.7203479,82.0743057,83.359147,81.639,81.38,0.0,81.620688,81.652249,81.61188,81.66339,81.649825,81.630129,81.66018,81.030281,83.193534,83.191169,70.988929,77.21089,77.213327,77.23836,77.238017,77.311452,77.308836,77.293489,77.314182,77.217459,77.225185,77.214542,77.224099,77.295437,77.181583,77.129045,77.205219,77.093105,77.214348,77.24269,77.200338,77.273777,77.251861,77.160438,77.18156,77.117583,73.858813,72.617719,72.60458,72.6055,72.525858,72.610263,72.541921,72.552974,72.531309,71.22186,72.960402,72.80717,72.963992,72.890433,72.435186,72.434692,72.414225,72.020131,72.032557,21.725118,72.160378,71.769089,74.254139,73.630239,73.459578,72.641585,72.625835,72.653181,69.651914,70.459367,70.453799,70.246131,23.073501,69.354198,69.67181,69.666889,73.0772,22.691088,72.391231,72.384975,72.389713,72.918373,73.028072,0.0,73.608892,21.633396,69.604689,70.803122,70.796956,70.787022,70.831473,70.799999,70.450128,72.960688,72.573372,23.838678,73.297569,72.829951,72.813897,72.845477,72.819444,71.649165,21.113314,73.189731,73.195356,73.464162,72.951211,72.922063,72.920819,72.904781,77.049488,76.779636,76.785947,77.454948,77.306856,77.31823,77.316923,77.310047,77.299823,77.318049,75.900961,77.087719,77.040909,77.07297,76.986694,75.722428,75.901772,76.642891,76.337165,0.0,0.0,77.327024,77.10227,76.616935,76.619789,75.022062,75.068864,76.808336,77.303543,76.765248,76.569182,76.3194044,76.3007658,76.927209,77.1831203,77.175267,77.6294213,77.107075,76.2741605,74.719824,74.853998,75.7681239,74.856181,75.132831,86.151112,86.173506,86.693996,86.4356088,0.0,86.43059,87.251613,86.210334,86.181256,83.802052,86.3064543,84.5383358,0.0,86.306465,84.685316,84.060447,85.5093472,85.277743,85.349138,85.321355,85.4370738,85.1106008,85.2204851,85.330008,0.0,87.634215,84.5028825,85.8054811,85.291571,0.0,75.289397,77.589012,77.592504,77.576262,77.536519,77.6491,77.756942,74.898097,75.916182,75.909787,75.600802,76.847911,76.844343,78.240449,77.3404064,74.4024452,77.138698,76.596252,76.388062,76.354918,76.291263,76.721012,75.294333,75.478803,75.523483,75.105095,76.91794,76.673304,76.749075,76.519311,76.575292,76.707947,76.578423,76.5434,76.93258,77.127416,75.8820596,76.001923,77.25035,77.412,76.114212,76.046337,75.308054,76.343016,78.155889,77.430707,75.882875,79.881151,80.370388,75.071826,77.998665,74.874825,76.732073,78.451821,80.515971,79.330324,81.352897,77.39027,81.88065,75.463821,75.811619,80.390813,74.73557,73.857499,73.787165,77.760815,77.816645,77.518316,75.354519,75.343313,75.323251,75.387668,75.352445,75.344972,75.323188,76.370902,79.65973,76.180604,76.207174,79.296742,79.30788,79.855757,74.761869,74.77767,74.961094,80.003753,79.982909,80.196834,77.154487,75.567945,75.664447,74.240034,74.372559,74.56459,74.256447,74.223891,74.461733,76.578201,76.580639,76.551573,73.89143,72.942063,72.835711,72.84073,79.097101,79.092894,79.105434,79.057149,79.060505,79.076369,79.072978,79.063093,77.309,74.472874,74.24463853,74.524396,73.7702,76.622149,73.858714,73.876808,73.927256,73.857098,73.42265,73.064507,73.108321,73.298866,73.547448,73.298977,74.649492,74.575077,74.186177,74.549364,74.010716,74.007955,74.18181,73.823544,75.900793,0.0,75.906391,75.265589,72.743519,72.95169,78.660927,78.575564,77.127893,78.118668,77.569957,78.118544,78.118544,93.961697,93.914217,91.884132,91.940381,91.875283,92.199331,92.716561,92.731326,93.3097,92.676799,92.888179,92.494861,92.856366,93.731607,0.0,93.771446,94.095902,94.12323,94.52071,95.02633,94.464482,94.817879,94.259206,94.523584,84.8567932,84.93461609,83.494856,86.935961,83.060982,86.502463,85.888633,85.597065,84.810241,84.57996368,86.179783,86.328963,85.973327,86.1564211,83.809261,84.865108,84.8651084,79.836804,79.701071,79.83303,79.834177,82.216893,74.86651,74.918134,75.288007,75.544877,74.947545,74.946979,74.747606,74.198522,74.024688,74.619453,74.607649,75.403333,75.665537,75.613623,75.565197,75.563262,75.567511,75.550527,75.578156,75.567277,75.595821,75.790012,75.381995,75.884942,75.811069,75.845858,75.935144,75.837507,75.169349,75.995988,75.948973,76.116853,76.146125,76.399514,76.584065,76.494595,76.52516,76.632796,76.698763,76.730141,76.733098,76.708016,76.714419,76.713957,74.853386,76.286106,77.506446,77.477799,74.643888,77.899636,73.71089,74.297906,75.816216,75.824649,75.806748,75.805818,75.800524,75.954816,75.777845,75.82519,73.021563,72.504023,73.018759,73.009226,73.009906,75.837722,81.9984388,75.837287,75.149061,72.859424,73.873964,73.692338,73.70231,88.597237,88.360388,80.27678,80.243824,80.251472,80.181451,80.257308,80.260797,80.265073,80.219317,80.278431,80.259207,80.288403,80.240417,80.24716,80.258702,80.227297,80.285439,77.023704,76.969577,76.976713,77.038048,76.994964,77.009584,77.007079,79.718821,79.316767,79.759266,79.467181,78.156738,78.161182,78.161652,77.725236,77.980644,77.977708,77.976364,77.718506,0.0,77.42957,79.98029,80.132393,79.715799,79.710277,80.134345,77.313237,77.43068,77.423288,0.0,78.2137,0.0,0.0,78.131758,78.162318,78.140268,78.119525,78.125557,77.788596,79.647377,0.0,78.168939,78.860775,78.864898,78.872944,79.000136,0.0,78.135322,0.0,79.37494,79.385655,79.317866,79.1366,79.111902,76.792608,77.240608,76.498838,77.53294,78.686566,77.385988,77.315522,77.75082,77.719592,77.723049,0.0,77.530473,77.36898,79.335994,79.135775,78.716928,78.720022,78.870574,79.136105,79.654492,79.487355,0.0,0.0,79.444699,78.425977,78.482139,78.473807,78.462087,78.481143,78.506534,78.34905,78.439955,78.479256,78.48723,78.480605,78.436556,78.504138,78.497002,78.500468,78.535869,78.508731,79.481638,79.128841,79.12973,79.151148,79.13294,80.832243,80.322363,77.808136,78.0011525,78.062182,78.20521,78.84139],\"marker\":{\"color\":\"#636efa\",\"symbol\":\"circle\"},\"mode\":\"markers\",\"name\":\"\",\"showlegend\":false,\"type\":\"scattergeo\"}],                        {\"template\":{\"data\":{\"histogram2dcontour\":[{\"type\":\"histogram2dcontour\",\"colorbar\":{\"outlinewidth\":0,\"ticks\":\"\"},\"colorscale\":[[0.0,\"#0d0887\"],[0.1111111111111111,\"#46039f\"],[0.2222222222222222,\"#7201a8\"],[0.3333333333333333,\"#9c179e\"],[0.4444444444444444,\"#bd3786\"],[0.5555555555555556,\"#d8576b\"],[0.6666666666666666,\"#ed7953\"],[0.7777777777777778,\"#fb9f3a\"],[0.8888888888888888,\"#fdca26\"],[1.0,\"#f0f921\"]]}],\"choropleth\":[{\"type\":\"choropleth\",\"colorbar\":{\"outlinewidth\":0,\"ticks\":\"\"}}],\"histogram2d\":[{\"type\":\"histogram2d\",\"colorbar\":{\"outlinewidth\":0,\"ticks\":\"\"},\"colorscale\":[[0.0,\"#0d0887\"],[0.1111111111111111,\"#46039f\"],[0.2222222222222222,\"#7201a8\"],[0.3333333333333333,\"#9c179e\"],[0.4444444444444444,\"#bd3786\"],[0.5555555555555556,\"#d8576b\"],[0.6666666666666666,\"#ed7953\"],[0.7777777777777778,\"#fb9f3a\"],[0.8888888888888888,\"#fdca26\"],[1.0,\"#f0f921\"]]}],\"heatmap\":[{\"type\":\"heatmap\",\"colorbar\":{\"outlinewidth\":0,\"ticks\":\"\"},\"colorscale\":[[0.0,\"#0d0887\"],[0.1111111111111111,\"#46039f\"],[0.2222222222222222,\"#7201a8\"],[0.3333333333333333,\"#9c179e\"],[0.4444444444444444,\"#bd3786\"],[0.5555555555555556,\"#d8576b\"],[0.6666666666666666,\"#ed7953\"],[0.7777777777777778,\"#fb9f3a\"],[0.8888888888888888,\"#fdca26\"],[1.0,\"#f0f921\"]]}],\"heatmapgl\":[{\"type\":\"heatmapgl\",\"colorbar\":{\"outlinewidth\":0,\"ticks\":\"\"},\"colorscale\":[[0.0,\"#0d0887\"],[0.1111111111111111,\"#46039f\"],[0.2222222222222222,\"#7201a8\"],[0.3333333333333333,\"#9c179e\"],[0.4444444444444444,\"#bd3786\"],[0.5555555555555556,\"#d8576b\"],[0.6666666666666666,\"#ed7953\"],[0.7777777777777778,\"#fb9f3a\"],[0.8888888888888888,\"#fdca26\"],[1.0,\"#f0f921\"]]}],\"contourcarpet\":[{\"type\":\"contourcarpet\",\"colorbar\":{\"outlinewidth\":0,\"ticks\":\"\"}}],\"contour\":[{\"type\":\"contour\",\"colorbar\":{\"outlinewidth\":0,\"ticks\":\"\"},\"colorscale\":[[0.0,\"#0d0887\"],[0.1111111111111111,\"#46039f\"],[0.2222222222222222,\"#7201a8\"],[0.3333333333333333,\"#9c179e\"],[0.4444444444444444,\"#bd3786\"],[0.5555555555555556,\"#d8576b\"],[0.6666666666666666,\"#ed7953\"],[0.7777777777777778,\"#fb9f3a\"],[0.8888888888888888,\"#fdca26\"],[1.0,\"#f0f921\"]]}],\"surface\":[{\"type\":\"surface\",\"colorbar\":{\"outlinewidth\":0,\"ticks\":\"\"},\"colorscale\":[[0.0,\"#0d0887\"],[0.1111111111111111,\"#46039f\"],[0.2222222222222222,\"#7201a8\"],[0.3333333333333333,\"#9c179e\"],[0.4444444444444444,\"#bd3786\"],[0.5555555555555556,\"#d8576b\"],[0.6666666666666666,\"#ed7953\"],[0.7777777777777778,\"#fb9f3a\"],[0.8888888888888888,\"#fdca26\"],[1.0,\"#f0f921\"]]}],\"mesh3d\":[{\"type\":\"mesh3d\",\"colorbar\":{\"outlinewidth\":0,\"ticks\":\"\"}}],\"scatter\":[{\"fillpattern\":{\"fillmode\":\"overlay\",\"size\":10,\"solidity\":0.2},\"type\":\"scatter\"}],\"parcoords\":[{\"type\":\"parcoords\",\"line\":{\"colorbar\":{\"outlinewidth\":0,\"ticks\":\"\"}}}],\"scatterpolargl\":[{\"type\":\"scatterpolargl\",\"marker\":{\"colorbar\":{\"outlinewidth\":0,\"ticks\":\"\"}}}],\"bar\":[{\"error_x\":{\"color\":\"#2a3f5f\"},\"error_y\":{\"color\":\"#2a3f5f\"},\"marker\":{\"line\":{\"color\":\"#E5ECF6\",\"width\":0.5},\"pattern\":{\"fillmode\":\"overlay\",\"size\":10,\"solidity\":0.2}},\"type\":\"bar\"}],\"scattergeo\":[{\"type\":\"scattergeo\",\"marker\":{\"colorbar\":{\"outlinewidth\":0,\"ticks\":\"\"}}}],\"scatterpolar\":[{\"type\":\"scatterpolar\",\"marker\":{\"colorbar\":{\"outlinewidth\":0,\"ticks\":\"\"}}}],\"histogram\":[{\"marker\":{\"pattern\":{\"fillmode\":\"overlay\",\"size\":10,\"solidity\":0.2}},\"type\":\"histogram\"}],\"scattergl\":[{\"type\":\"scattergl\",\"marker\":{\"colorbar\":{\"outlinewidth\":0,\"ticks\":\"\"}}}],\"scatter3d\":[{\"type\":\"scatter3d\",\"line\":{\"colorbar\":{\"outlinewidth\":0,\"ticks\":\"\"}},\"marker\":{\"colorbar\":{\"outlinewidth\":0,\"ticks\":\"\"}}}],\"scattermapbox\":[{\"type\":\"scattermapbox\",\"marker\":{\"colorbar\":{\"outlinewidth\":0,\"ticks\":\"\"}}}],\"scatterternary\":[{\"type\":\"scatterternary\",\"marker\":{\"colorbar\":{\"outlinewidth\":0,\"ticks\":\"\"}}}],\"scattercarpet\":[{\"type\":\"scattercarpet\",\"marker\":{\"colorbar\":{\"outlinewidth\":0,\"ticks\":\"\"}}}],\"carpet\":[{\"aaxis\":{\"endlinecolor\":\"#2a3f5f\",\"gridcolor\":\"white\",\"linecolor\":\"white\",\"minorgridcolor\":\"white\",\"startlinecolor\":\"#2a3f5f\"},\"baxis\":{\"endlinecolor\":\"#2a3f5f\",\"gridcolor\":\"white\",\"linecolor\":\"white\",\"minorgridcolor\":\"white\",\"startlinecolor\":\"#2a3f5f\"},\"type\":\"carpet\"}],\"table\":[{\"cells\":{\"fill\":{\"color\":\"#EBF0F8\"},\"line\":{\"color\":\"white\"}},\"header\":{\"fill\":{\"color\":\"#C8D4E3\"},\"line\":{\"color\":\"white\"}},\"type\":\"table\"}],\"barpolar\":[{\"marker\":{\"line\":{\"color\":\"#E5ECF6\",\"width\":0.5},\"pattern\":{\"fillmode\":\"overlay\",\"size\":10,\"solidity\":0.2}},\"type\":\"barpolar\"}],\"pie\":[{\"automargin\":true,\"type\":\"pie\"}]},\"layout\":{\"autotypenumbers\":\"strict\",\"colorway\":[\"#636efa\",\"#EF553B\",\"#00cc96\",\"#ab63fa\",\"#FFA15A\",\"#19d3f3\",\"#FF6692\",\"#B6E880\",\"#FF97FF\",\"#FECB52\"],\"font\":{\"color\":\"#2a3f5f\"},\"hovermode\":\"closest\",\"hoverlabel\":{\"align\":\"left\"},\"paper_bgcolor\":\"white\",\"plot_bgcolor\":\"#E5ECF6\",\"polar\":{\"bgcolor\":\"#E5ECF6\",\"angularaxis\":{\"gridcolor\":\"white\",\"linecolor\":\"white\",\"ticks\":\"\"},\"radialaxis\":{\"gridcolor\":\"white\",\"linecolor\":\"white\",\"ticks\":\"\"}},\"ternary\":{\"bgcolor\":\"#E5ECF6\",\"aaxis\":{\"gridcolor\":\"white\",\"linecolor\":\"white\",\"ticks\":\"\"},\"baxis\":{\"gridcolor\":\"white\",\"linecolor\":\"white\",\"ticks\":\"\"},\"caxis\":{\"gridcolor\":\"white\",\"linecolor\":\"white\",\"ticks\":\"\"}},\"coloraxis\":{\"colorbar\":{\"outlinewidth\":0,\"ticks\":\"\"}},\"colorscale\":{\"sequential\":[[0.0,\"#0d0887\"],[0.1111111111111111,\"#46039f\"],[0.2222222222222222,\"#7201a8\"],[0.3333333333333333,\"#9c179e\"],[0.4444444444444444,\"#bd3786\"],[0.5555555555555556,\"#d8576b\"],[0.6666666666666666,\"#ed7953\"],[0.7777777777777778,\"#fb9f3a\"],[0.8888888888888888,\"#fdca26\"],[1.0,\"#f0f921\"]],\"sequentialminus\":[[0.0,\"#0d0887\"],[0.1111111111111111,\"#46039f\"],[0.2222222222222222,\"#7201a8\"],[0.3333333333333333,\"#9c179e\"],[0.4444444444444444,\"#bd3786\"],[0.5555555555555556,\"#d8576b\"],[0.6666666666666666,\"#ed7953\"],[0.7777777777777778,\"#fb9f3a\"],[0.8888888888888888,\"#fdca26\"],[1.0,\"#f0f921\"]],\"diverging\":[[0,\"#8e0152\"],[0.1,\"#c51b7d\"],[0.2,\"#de77ae\"],[0.3,\"#f1b6da\"],[0.4,\"#fde0ef\"],[0.5,\"#f7f7f7\"],[0.6,\"#e6f5d0\"],[0.7,\"#b8e186\"],[0.8,\"#7fbc41\"],[0.9,\"#4d9221\"],[1,\"#276419\"]]},\"xaxis\":{\"gridcolor\":\"white\",\"linecolor\":\"white\",\"ticks\":\"\",\"title\":{\"standoff\":15},\"zerolinecolor\":\"white\",\"automargin\":true,\"zerolinewidth\":2},\"yaxis\":{\"gridcolor\":\"white\",\"linecolor\":\"white\",\"ticks\":\"\",\"title\":{\"standoff\":15},\"zerolinecolor\":\"white\",\"automargin\":true,\"zerolinewidth\":2},\"scene\":{\"xaxis\":{\"backgroundcolor\":\"#E5ECF6\",\"gridcolor\":\"white\",\"linecolor\":\"white\",\"showbackground\":true,\"ticks\":\"\",\"zerolinecolor\":\"white\",\"gridwidth\":2},\"yaxis\":{\"backgroundcolor\":\"#E5ECF6\",\"gridcolor\":\"white\",\"linecolor\":\"white\",\"showbackground\":true,\"ticks\":\"\",\"zerolinecolor\":\"white\",\"gridwidth\":2},\"zaxis\":{\"backgroundcolor\":\"#E5ECF6\",\"gridcolor\":\"white\",\"linecolor\":\"white\",\"showbackground\":true,\"ticks\":\"\",\"zerolinecolor\":\"white\",\"gridwidth\":2}},\"shapedefaults\":{\"line\":{\"color\":\"#2a3f5f\"}},\"annotationdefaults\":{\"arrowcolor\":\"#2a3f5f\",\"arrowhead\":0,\"arrowwidth\":1},\"geo\":{\"bgcolor\":\"white\",\"landcolor\":\"#E5ECF6\",\"subunitcolor\":\"white\",\"showland\":true,\"showlakes\":true,\"lakecolor\":\"white\"},\"title\":{\"x\":0.05},\"mapbox\":{\"style\":\"light\"}}},\"geo\":{\"domain\":{\"x\":[0.0,1.0],\"y\":[0.0,1.0]},\"center\":{}},\"legend\":{\"tracegroupgap\":0},\"title\":{\"text\":\"Blood Banks Location on Map\"}},                        {\"responsive\": true}                    ).then(function(){\n",
       "                            \n",
       "var gd = document.getElementById('dc0d5b0d-cac9-41d4-a048-b08cb757380c');\n",
       "var x = new MutationObserver(function (mutations, observer) {{\n",
       "        var display = window.getComputedStyle(gd).display;\n",
       "        if (!display || display === 'none') {{\n",
       "            console.log([gd, 'removed!']);\n",
       "            Plotly.purge(gd);\n",
       "            observer.disconnect();\n",
       "        }}\n",
       "}});\n",
       "\n",
       "// Listen for the removal of the full notebook cells\n",
       "var notebookContainer = gd.closest('#notebook-container');\n",
       "if (notebookContainer) {{\n",
       "    x.observe(notebookContainer, {childList: true});\n",
       "}}\n",
       "\n",
       "// Listen for the clearing of the current output cell\n",
       "var outputEl = gd.closest('.output');\n",
       "if (outputEl) {{\n",
       "    x.observe(outputEl, {childList: true});\n",
       "}}\n",
       "\n",
       "                        })                };                });            </script>        </div>"
      ]
     },
     "metadata": {},
     "output_type": "display_data"
    }
   ],
   "source": [
    "import plotly.express as px\n",
    "\n",
    "# Create a scatter plot on a geographical map using the 'Latitude' and 'Longitude' columns\n",
    "fig = px.scatter_geo(dataset, lat='Latitude', lon='Longitude', title='Blood Banks Location on Map')\n",
    "\n",
    "# Display the map\n",
    "fig.show()\n"
   ]
  },
  {
   "cell_type": "code",
   "execution_count": 111,
   "id": "b6ed64c8-0383-4520-8535-68d780023042",
   "metadata": {},
   "outputs": [
    {
     "data": {
      "image/png": "[encoded data removed]",
      "text/plain": [
       "<Figure size 800x600 with 1 Axes>"
      ]
     },
     "metadata": {},
     "output_type": "display_data"
    }
   ],
   "source": [
    "# Count non-null entries for 'Email', 'Mobile', and 'Apheresis' columns\n",
    "email_mobile_counts = dataset[['Email', 'Mobile', 'Apheresis']].notnull().sum()\n",
    "\n",
    "# Set figure size for better visualization\n",
    "plt.figure(figsize=(8, 6))\n",
    "\n",
    "# Create a bar chart with stacked bars for the non-null counts of 'Email', 'Mobile', and 'Apheresis'\n",
    "email_mobile_counts.plot(kind='bar', stacked=True, color=['blue', 'navy', 'skyblue'])\n",
    "\n",
    "# Title and axis labels\n",
    "plt.title('Email and Mobile Availability in Blood Banks')\n",
    "plt.xlabel('Information Type')\n",
    "plt.ylabel('Count')\n",
    "\n",
    "# Set x-axis labels rotation to 0 for better readability\n",
    "plt.xticks(rotation=0)\n",
    "\n",
    "# Display the plot\n",
    "plt.show()\n"
   ]
  },
  {
   "cell_type": "code",
   "execution_count": 40,
   "id": "cebe1c77-8b76-4a10-9e69-e8df6fcc2b33",
   "metadata": {
    "scrolled": true
   },
   "outputs": [
    {
     "data": {
      "image/png": "[encoded data removed]",
      "text/plain": [
       "<Figure size 1200x800 with 1 Axes>"
      ]
     },
     "metadata": {},
     "output_type": "display_data"
    }
   ],
   "source": [
    " # Get the qualifications and count how many blood banks have each qualification\n",
    "qualification_counts = dataset['Qualification'].value_counts()\n",
    "\n",
    "# Filter the qualifications to only include those with at least 15 blood banks\n",
    "qualification_counts_filtered = qualification_counts[qualification_counts >= 15]\n",
    "\n",
    "# Set figure size for better readability\n",
    "plt.figure(figsize=(12, 8))\n",
    "\n",
    "# Plot the filtered data as a bar chart with light blue color\n",
    "qualification_counts_filtered.plot(kind='bar', color='lightblue')\n",
    "\n",
    "# Add plot title and axis labels\n",
    "plt.title('Number of Blood Banks by Staff Qualification (Min 15)')\n",
    "plt.xlabel('Qualification')\n",
    "plt.ylabel('Number of Blood Banks')\n",
    "\n",
    "# Rotate x-axis labels for better readability\n",
    "plt.xticks(rotation=45)\n",
    "\n",
    "# Display the plot\n",
    "plt.show()\n"
   ]
  },
  {
   "cell_type": "code",
   "execution_count": null,
   "id": "3fcaeb6c-8d53-4e9a-9858-d492e8a862f8",
   "metadata": {},
   "outputs": [],
   "source": [
    "conclusion:\n",
    "The visualizations highlight the distribution, availability, and diversity of blood bank services, \n",
    "guiding efforts to improve access and service levels across regions\n",
    "The bar plot shows the count distribution of blood banks based on the availability of blood components (YES, NO, or any other value). \n",
    "This visualization helps determine whether most blood banks provide blood component services or if there's a lack of such facilities.\n",
    "analysis of the blood bank data indicates that the government sector has a dominant presence in the blood bank services.\n",
    "The bar plot visualizing the distribution of blood bank categories (Government, Charity, Private) reveals a strong government representation,\n",
    "suggesting that public sector blood banks play a major role in providing blood donation services."
   ]
  }
 ],
 "metadata": {
  "kernelspec": {
   "display_name": "Python 3 (ipykernel)",
   "language": "python",
   "name": "python3"
  },
  "language_info": {
   "codemirror_mode": {
    "name": "ipython",
    "version": 3
   },
   "file_extension": ".py",
   "mimetype": "text/x-python",
   "name": "python",
   "nbconvert_exporter": "python",
   "pygments_lexer": "ipython3",
   "version": "3.12.7"
  }
 },
 "nbformat": 4,
 "nbformat_minor": 5
}
